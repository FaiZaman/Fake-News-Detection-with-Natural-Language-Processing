{
 "cells": [
  {
   "cell_type": "markdown",
   "metadata": {},
   "source": [
    "# Natural Language Processing for the Fake News Challenge"
   ]
  },
  {
   "cell_type": "markdown",
   "metadata": {},
   "source": [
    "## Main Imports"
   ]
  },
  {
   "cell_type": "code",
   "execution_count": 15,
   "metadata": {},
   "outputs": [],
   "source": [
    "import time\n",
    "import pandas as pd\n",
    "import numpy as np\n",
    "import seaborn as sn\n",
    "import matplotlib.pyplot as plt\n",
    "\n",
    "from sklearn.base import TransformerMixin\n",
    "from sklearn.model_selection import train_test_split\n",
    "from sklearn.naive_bayes import MultinomialNB\n",
    "from sklearn.pipeline import FeatureUnion, make_pipeline, make_union\n",
    "from sklearn.feature_extraction.text import TfidfVectorizer, CountVectorizer\n",
    "\n",
    "from sklearn import metrics\n",
    "from sklearn.metrics import confusion_matrix, accuracy_score, roc_auc_score, roc_curve, auc, f1_score\n",
    "\n",
    "from sklearn.svm import SVC\n",
    "from sklearn.model_selection import GridSearchCV"
   ]
  },
  {
   "cell_type": "markdown",
   "metadata": {},
   "source": [
    "## Set up the data for preprocessing\n",
    "### Load and sample the data"
   ]
  },
  {
   "cell_type": "code",
   "execution_count": 16,
   "metadata": {},
   "outputs": [],
   "source": [
    "data_folder_name = 'data'\n",
    "train_body_filename = 'train_bodies.csv'\n",
    "train_stance_filename = 'train_stances.csv'\n",
    "\n",
    "train_body_path = data_folder_name +'/'+ train_body_filename \n",
    "train_stance_path = data_folder_name + '/' + train_stance_filename\n",
    "\n",
    "body_data = pd.read_csv(train_body_path)\n",
    "stance_data = pd.read_csv(train_stance_path)"
   ]
  },
  {
   "cell_type": "code",
   "execution_count": 17,
   "metadata": {},
   "outputs": [
    {
     "data": {
      "text/html": [
       "<div>\n",
       "<style scoped>\n",
       "    .dataframe tbody tr th:only-of-type {\n",
       "        vertical-align: middle;\n",
       "    }\n",
       "\n",
       "    .dataframe tbody tr th {\n",
       "        vertical-align: top;\n",
       "    }\n",
       "\n",
       "    .dataframe thead th {\n",
       "        text-align: right;\n",
       "    }\n",
       "</style>\n",
       "<table border=\"1\" class=\"dataframe\">\n",
       "  <thead>\n",
       "    <tr style=\"text-align: right;\">\n",
       "      <th></th>\n",
       "      <th>Body ID</th>\n",
       "      <th>articleBody</th>\n",
       "    </tr>\n",
       "  </thead>\n",
       "  <tbody>\n",
       "    <tr>\n",
       "      <th>865</th>\n",
       "      <td>1305</td>\n",
       "      <td>Cuban dissidents and Cuban-American media are ...</td>\n",
       "    </tr>\n",
       "    <tr>\n",
       "      <th>1624</th>\n",
       "      <td>2444</td>\n",
       "      <td>A luxe Viking island owned by the world's sixt...</td>\n",
       "    </tr>\n",
       "    <tr>\n",
       "      <th>9</th>\n",
       "      <td>13</td>\n",
       "      <td>A SOLDIER has been shot at Canada’s National W...</td>\n",
       "    </tr>\n",
       "    <tr>\n",
       "      <th>183</th>\n",
       "      <td>288</td>\n",
       "      <td>Islamic State (IS) fighters may have captured ...</td>\n",
       "    </tr>\n",
       "    <tr>\n",
       "      <th>177</th>\n",
       "      <td>280</td>\n",
       "      <td>ISLAMIC State group jihadists are being traine...</td>\n",
       "    </tr>\n",
       "    <tr>\n",
       "      <th>936</th>\n",
       "      <td>1403</td>\n",
       "      <td>Reports that Comcast will deny Internet servic...</td>\n",
       "    </tr>\n",
       "    <tr>\n",
       "      <th>1623</th>\n",
       "      <td>2443</td>\n",
       "      <td>There have been reports of predator drones bei...</td>\n",
       "    </tr>\n",
       "    <tr>\n",
       "      <th>47</th>\n",
       "      <td>72</td>\n",
       "      <td>The move comes after the actor's talks with Fo...</td>\n",
       "    </tr>\n",
       "    <tr>\n",
       "      <th>426</th>\n",
       "      <td>645</td>\n",
       "      <td>The Apple Watch will not be an accessory for y...</td>\n",
       "    </tr>\n",
       "    <tr>\n",
       "      <th>922</th>\n",
       "      <td>1379</td>\n",
       "      <td>The video texting service Glide has verified t...</td>\n",
       "    </tr>\n",
       "  </tbody>\n",
       "</table>\n",
       "</div>"
      ],
      "text/plain": [
       "      Body ID                                        articleBody\n",
       "865      1305  Cuban dissidents and Cuban-American media are ...\n",
       "1624     2444  A luxe Viking island owned by the world's sixt...\n",
       "9          13  A SOLDIER has been shot at Canada’s National W...\n",
       "183       288  Islamic State (IS) fighters may have captured ...\n",
       "177       280  ISLAMIC State group jihadists are being traine...\n",
       "936      1403  Reports that Comcast will deny Internet servic...\n",
       "1623     2443  There have been reports of predator drones bei...\n",
       "47         72  The move comes after the actor's talks with Fo...\n",
       "426       645  The Apple Watch will not be an accessory for y...\n",
       "922      1379  The video texting service Glide has verified t..."
      ]
     },
     "execution_count": 17,
     "metadata": {},
     "output_type": "execute_result"
    }
   ],
   "source": [
    "body_data.sample(10)"
   ]
  },
  {
   "cell_type": "markdown",
   "metadata": {},
   "source": [
    "### Merge the data based on the Body ID to get one dataframe containing the corresponding Headlines and Article Bodies"
   ]
  },
  {
   "cell_type": "code",
   "execution_count": 18,
   "metadata": {},
   "outputs": [
    {
     "data": {
      "text/html": [
       "<div>\n",
       "<style scoped>\n",
       "    .dataframe tbody tr th:only-of-type {\n",
       "        vertical-align: middle;\n",
       "    }\n",
       "\n",
       "    .dataframe tbody tr th {\n",
       "        vertical-align: top;\n",
       "    }\n",
       "\n",
       "    .dataframe thead th {\n",
       "        text-align: right;\n",
       "    }\n",
       "</style>\n",
       "<table border=\"1\" class=\"dataframe\">\n",
       "  <thead>\n",
       "    <tr style=\"text-align: right;\">\n",
       "      <th></th>\n",
       "      <th>Body ID</th>\n",
       "      <th>articleBody</th>\n",
       "      <th>Headline</th>\n",
       "      <th>Stance</th>\n",
       "      <th>Relevance</th>\n",
       "    </tr>\n",
       "  </thead>\n",
       "  <tbody>\n",
       "    <tr>\n",
       "      <th>26566</th>\n",
       "      <td>1498</td>\n",
       "      <td>A prominent religious scholar in Saudi Arabia ...</td>\n",
       "      <td>Saudi Arabia Cleric Issues Fatwa Against Build...</td>\n",
       "      <td>discuss</td>\n",
       "      <td>related</td>\n",
       "    </tr>\n",
       "    <tr>\n",
       "      <th>748</th>\n",
       "      <td>34</td>\n",
       "      <td>Abdel-Majed Abdel Bary, who went by the rap na...</td>\n",
       "      <td>Boko Haram ceasefire ignored as violence flare...</td>\n",
       "      <td>unrelated</td>\n",
       "      <td>unrelated</td>\n",
       "    </tr>\n",
       "    <tr>\n",
       "      <th>11987</th>\n",
       "      <td>720</td>\n",
       "      <td>DNA tests have confirmed that a daughter and a...</td>\n",
       "      <td>Lebanon detains wife and son of Al-Baghdadi</td>\n",
       "      <td>agree</td>\n",
       "      <td>related</td>\n",
       "    </tr>\n",
       "    <tr>\n",
       "      <th>1155</th>\n",
       "      <td>45</td>\n",
       "      <td>Zack Snyder recently unveiled an official phot...</td>\n",
       "      <td>Apple-HBO Deal Seen Launching Web-only Apple T...</td>\n",
       "      <td>unrelated</td>\n",
       "      <td>unrelated</td>\n",
       "    </tr>\n",
       "    <tr>\n",
       "      <th>8059</th>\n",
       "      <td>511</td>\n",
       "      <td>The leaked video of Georgy Myakinkin's protest...</td>\n",
       "      <td>Video showing American journalist beheaded bel...</td>\n",
       "      <td>unrelated</td>\n",
       "      <td>unrelated</td>\n",
       "    </tr>\n",
       "    <tr>\n",
       "      <th>27451</th>\n",
       "      <td>1545</td>\n",
       "      <td>Macaulay Culkin has once again died — at least...</td>\n",
       "      <td>Predator Drone Reportedly Sighted Circling Raq...</td>\n",
       "      <td>unrelated</td>\n",
       "      <td>unrelated</td>\n",
       "    </tr>\n",
       "    <tr>\n",
       "      <th>3530</th>\n",
       "      <td>206</td>\n",
       "      <td>Two U.S. officials say they believe American j...</td>\n",
       "      <td>Nigeria: hopes for return of kidnapped schoolg...</td>\n",
       "      <td>unrelated</td>\n",
       "      <td>unrelated</td>\n",
       "    </tr>\n",
       "    <tr>\n",
       "      <th>31909</th>\n",
       "      <td>1786</td>\n",
       "      <td>A British man who went to fight against Islami...</td>\n",
       "      <td>Audio captured at time of Michael Brown shooti...</td>\n",
       "      <td>unrelated</td>\n",
       "      <td>unrelated</td>\n",
       "    </tr>\n",
       "    <tr>\n",
       "      <th>35805</th>\n",
       "      <td>1921</td>\n",
       "      <td>The man who jumped the White House fence this ...</td>\n",
       "      <td>Pentagon: Airstrike killed terror leader in So...</td>\n",
       "      <td>unrelated</td>\n",
       "      <td>unrelated</td>\n",
       "    </tr>\n",
       "    <tr>\n",
       "      <th>13821</th>\n",
       "      <td>825</td>\n",
       "      <td>Defense Secretary Chuck Hagel said on Saturday...</td>\n",
       "      <td>US hostage 'murdered' by militants in Yemen, s...</td>\n",
       "      <td>discuss</td>\n",
       "      <td>related</td>\n",
       "    </tr>\n",
       "  </tbody>\n",
       "</table>\n",
       "</div>"
      ],
      "text/plain": [
       "       Body ID                                        articleBody  \\\n",
       "26566     1498  A prominent religious scholar in Saudi Arabia ...   \n",
       "748         34  Abdel-Majed Abdel Bary, who went by the rap na...   \n",
       "11987      720  DNA tests have confirmed that a daughter and a...   \n",
       "1155        45  Zack Snyder recently unveiled an official phot...   \n",
       "8059       511  The leaked video of Georgy Myakinkin's protest...   \n",
       "27451     1545  Macaulay Culkin has once again died — at least...   \n",
       "3530       206  Two U.S. officials say they believe American j...   \n",
       "31909     1786  A British man who went to fight against Islami...   \n",
       "35805     1921  The man who jumped the White House fence this ...   \n",
       "13821      825  Defense Secretary Chuck Hagel said on Saturday...   \n",
       "\n",
       "                                                Headline     Stance  Relevance  \n",
       "26566  Saudi Arabia Cleric Issues Fatwa Against Build...    discuss    related  \n",
       "748    Boko Haram ceasefire ignored as violence flare...  unrelated  unrelated  \n",
       "11987        Lebanon detains wife and son of Al-Baghdadi      agree    related  \n",
       "1155   Apple-HBO Deal Seen Launching Web-only Apple T...  unrelated  unrelated  \n",
       "8059   Video showing American journalist beheaded bel...  unrelated  unrelated  \n",
       "27451  Predator Drone Reportedly Sighted Circling Raq...  unrelated  unrelated  \n",
       "3530   Nigeria: hopes for return of kidnapped schoolg...  unrelated  unrelated  \n",
       "31909  Audio captured at time of Michael Brown shooti...  unrelated  unrelated  \n",
       "35805  Pentagon: Airstrike killed terror leader in So...  unrelated  unrelated  \n",
       "13821  US hostage 'murdered' by militants in Yemen, s...    discuss    related  "
      ]
     },
     "execution_count": 18,
     "metadata": {},
     "output_type": "execute_result"
    }
   ],
   "source": [
    "total_data = pd.merge(body_data, stance_data, on='Body ID')\n",
    "\n",
    "# randomly drop rows to improve performance on SVM\n",
    "remove_n = 0\n",
    "drop_indices = np.random.choice(total_data.index, remove_n, replace=False)\n",
    "total_data = total_data.drop(drop_indices)\n",
    "\n",
    "# add relevance column\n",
    "total_data['Relevance'] = np.where(total_data['Stance'] == 'unrelated', 'unrelated', 'related')\n",
    "total_data.sample(10)"
   ]
  },
  {
   "cell_type": "markdown",
   "metadata": {},
   "source": [
    "### Splitting the dataset into train and validation sets"
   ]
  },
  {
   "cell_type": "code",
   "execution_count": 19,
   "metadata": {},
   "outputs": [
    {
     "name": "stdout",
     "output_type": "stream",
     "text": [
      "Size of training set: (39977, 2)\n",
      "Size of validation set: (9995, 2)\n"
     ]
    },
    {
     "data": {
      "text/html": [
       "<div>\n",
       "<style scoped>\n",
       "    .dataframe tbody tr th:only-of-type {\n",
       "        vertical-align: middle;\n",
       "    }\n",
       "\n",
       "    .dataframe tbody tr th {\n",
       "        vertical-align: top;\n",
       "    }\n",
       "\n",
       "    .dataframe thead th {\n",
       "        text-align: right;\n",
       "    }\n",
       "</style>\n",
       "<table border=\"1\" class=\"dataframe\">\n",
       "  <thead>\n",
       "    <tr style=\"text-align: right;\">\n",
       "      <th></th>\n",
       "      <th>Headline</th>\n",
       "      <th>articleBody</th>\n",
       "    </tr>\n",
       "  </thead>\n",
       "  <tbody>\n",
       "    <tr>\n",
       "      <th>32401</th>\n",
       "      <td>Alleged Ottawa gunman: What we know so far abo...</td>\n",
       "      <td>New York City continues to seek ways to cut do...</td>\n",
       "    </tr>\n",
       "    <tr>\n",
       "      <th>49373</th>\n",
       "      <td>NASA Confirms Earth Will Experience 6 Days of ...</td>\n",
       "      <td>Anna Wintour, editor-in-chief on Vogue magazin...</td>\n",
       "    </tr>\n",
       "    <tr>\n",
       "      <th>12742</th>\n",
       "      <td>Ottawa investigates reports that Isis has capt...</td>\n",
       "      <td>Gill Rosenberg, the Canadian Israeli volunteer...</td>\n",
       "    </tr>\n",
       "    <tr>\n",
       "      <th>8616</th>\n",
       "      <td>Lebanon 'holding IS leader's daughter and ex-w...</td>\n",
       "      <td>A homeless man was given a hundred dollars, an...</td>\n",
       "    </tr>\n",
       "    <tr>\n",
       "      <th>43948</th>\n",
       "      <td>One gunman killed in shooting on Parliament Hi...</td>\n",
       "      <td>Parliament Hill's Centre Block is in lockdown ...</td>\n",
       "    </tr>\n",
       "    <tr>\n",
       "      <th>25128</th>\n",
       "      <td>Fence Jumper Made It Deeper Into the White Hou...</td>\n",
       "      <td>Could a newly released audio provide more clue...</td>\n",
       "    </tr>\n",
       "    <tr>\n",
       "      <th>17249</th>\n",
       "      <td>ISIS Appears To Behead American Photojournalis...</td>\n",
       "      <td>Islamic State, in video titled \"A Message to A...</td>\n",
       "    </tr>\n",
       "    <tr>\n",
       "      <th>40542</th>\n",
       "      <td>Who Is Michael Zehaf-Bibeau? Ottawa Shooter Su...</td>\n",
       "      <td>Vice founder Shane Smith, with something that ...</td>\n",
       "    </tr>\n",
       "    <tr>\n",
       "      <th>43702</th>\n",
       "      <td>Dog Found Abandoned With Suitcase Filled With ...</td>\n",
       "      <td>The woman also detained is believed to be al-B...</td>\n",
       "    </tr>\n",
       "    <tr>\n",
       "      <th>38430</th>\n",
       "      <td>Norfolk Man Pays £300 For His Constipated Gold...</td>\n",
       "      <td>A married TV actor who met a young woman and k...</td>\n",
       "    </tr>\n",
       "  </tbody>\n",
       "</table>\n",
       "</div>"
      ],
      "text/plain": [
       "                                                Headline  \\\n",
       "32401  Alleged Ottawa gunman: What we know so far abo...   \n",
       "49373  NASA Confirms Earth Will Experience 6 Days of ...   \n",
       "12742  Ottawa investigates reports that Isis has capt...   \n",
       "8616   Lebanon 'holding IS leader's daughter and ex-w...   \n",
       "43948  One gunman killed in shooting on Parliament Hi...   \n",
       "25128  Fence Jumper Made It Deeper Into the White Hou...   \n",
       "17249  ISIS Appears To Behead American Photojournalis...   \n",
       "40542  Who Is Michael Zehaf-Bibeau? Ottawa Shooter Su...   \n",
       "43702  Dog Found Abandoned With Suitcase Filled With ...   \n",
       "38430  Norfolk Man Pays £300 For His Constipated Gold...   \n",
       "\n",
       "                                             articleBody  \n",
       "32401  New York City continues to seek ways to cut do...  \n",
       "49373  Anna Wintour, editor-in-chief on Vogue magazin...  \n",
       "12742  Gill Rosenberg, the Canadian Israeli volunteer...  \n",
       "8616   A homeless man was given a hundred dollars, an...  \n",
       "43948  Parliament Hill's Centre Block is in lockdown ...  \n",
       "25128  Could a newly released audio provide more clue...  \n",
       "17249  Islamic State, in video titled \"A Message to A...  \n",
       "40542  Vice founder Shane Smith, with something that ...  \n",
       "43702  The woman also detained is believed to be al-B...  \n",
       "38430  A married TV actor who met a young woman and k...  "
      ]
     },
     "execution_count": 19,
     "metadata": {},
     "output_type": "execute_result"
    }
   ],
   "source": [
    "input_columns = total_data[['Headline', 'articleBody']]\n",
    "target = 'Relevance'\n",
    "X_train, X_val, y_train, y_val = train_test_split(input_columns, total_data[target].values , test_size=0.20, random_state=0)\n",
    "\n",
    "# check the size of our datasets\n",
    "print('Size of training set:', X_train.shape)\n",
    "print('Size of validation set:', X_val.shape)\n",
    "\n",
    "X_train.sample(10)"
   ]
  },
  {
   "cell_type": "markdown",
   "metadata": {},
   "source": [
    "## TF-IDF Feature Extraction\n",
    "### Custom Transformer for Pipeline"
   ]
  },
  {
   "cell_type": "code",
   "execution_count": 20,
   "metadata": {},
   "outputs": [],
   "source": [
    "# custom transformer for column extraction\n",
    "class ColumnExtractor(TransformerMixin):\n",
    "\n",
    "    def __init__(self, column):\n",
    "        self.column = column\n",
    "\n",
    "    def fit(self, X, y=None):\n",
    "        return self\n",
    "\n",
    "    def transform(self, X, y=None):\n",
    "        return X[self.column]"
   ]
  },
  {
   "cell_type": "markdown",
   "metadata": {},
   "source": [
    "### Pipelines and Feature Union of Headline and Article Body\n",
    "- Apply fit transform"
   ]
  },
  {
   "cell_type": "code",
   "execution_count": 21,
   "metadata": {},
   "outputs": [
    {
     "name": "stdout",
     "output_type": "stream",
     "text": [
      "Train size:  (39977, 100)\n",
      "Val size:  (9995, 100)\n"
     ]
    }
   ],
   "source": [
    "# feature extraction with TF-IDF\n",
    "\n",
    "# create pipes and perform TF-IDF on Headline and Body columns\n",
    "headline_pipe = make_pipeline(\n",
    "    ColumnExtractor('Headline'),\n",
    "    TfidfVectorizer(decode_error='ignore', min_df=4, max_df=0.5, max_features=50, lowercase=True)\n",
    ")\n",
    "\n",
    "body_pipe = make_pipeline(\n",
    "    ColumnExtractor('articleBody'),\n",
    "    TfidfVectorizer(decode_error='ignore', min_df=4, max_df=0.5, max_features=50, lowercase=True)\n",
    ")\n",
    "\n",
    "# combine headline and body transformers with a feature union and weight equally\n",
    "preprocessor = FeatureUnion(transformer_list=[('headline', headline_pipe),\n",
    "                                              ('body', body_pipe)],\n",
    "                            transformer_weights= {\n",
    "                                    'headline': 0.5,\n",
    "                                    'body': 0.5\n",
    "                               }\n",
    "                           )\n",
    "\n",
    "# fit transform and print data\n",
    "train = preprocessor.fit_transform(X_train)\n",
    "val = preprocessor.transform(X_val)\n",
    "print('Train size: ', train.shape)\n",
    "print('Val size: ', val.shape)"
   ]
  },
  {
   "cell_type": "markdown",
   "metadata": {},
   "source": [
    "## Evaluation Metrics"
   ]
  },
  {
   "cell_type": "markdown",
   "metadata": {},
   "source": [
    "### Confusion Matrix"
   ]
  },
  {
   "cell_type": "code",
   "execution_count": 22,
   "metadata": {},
   "outputs": [],
   "source": [
    "# Create the confussion matrix\n",
    "def plot_confussion_matrix(y_test, y_pred):\n",
    "    ''' Plot the confussion matrix for the target labels and predictions '''\n",
    "    cm = confusion_matrix(y_test, y_pred)\n",
    "\n",
    "    # Create a dataframe with the confussion matrix values\n",
    "    df_cm = pd.DataFrame(cm, range(cm.shape[0]),\n",
    "                  range(cm.shape[1]))\n",
    "\n",
    "    # Plot the confussion matrix\n",
    "    sn.set(font_scale=1.4) #for label size\n",
    "    sn.heatmap(df_cm, annot=True,fmt='.0f',cmap=\"YlGnBu\",annot_kws={\"size\": 10})# font size\n",
    "    plt.show()"
   ]
  },
  {
   "cell_type": "markdown",
   "metadata": {},
   "source": [
    "### ROC Curve"
   ]
  },
  {
   "cell_type": "code",
   "execution_count": 23,
   "metadata": {},
   "outputs": [],
   "source": [
    "# ROC Curve\n",
    "# plot no skill\n",
    "# Calculate the points in the ROC curve\n",
    "def plot_roc_curve(y_test, y_pred):\n",
    "    ''' Plot the ROC curve for the target labels and predictions'''\n",
    "    fpr, tpr, thresholds = roc_curve(y_test, y_pred, pos_label=1)\n",
    "    roc_auc= auc(fpr,tpr)\n",
    "    plt.figure(figsize=(12, 12))\n",
    "    ax = plt.subplot(121)\n",
    "    ax.set_aspect(1)\n",
    "    \n",
    "    plt.title('Receiver Operating Characteristic')\n",
    "    plt.plot(fpr, tpr, 'b', label = 'AUC = %0.2f' % roc_auc)\n",
    "    plt.legend(loc = 'lower right')\n",
    "    plt.plot([0, 1], [0, 1],'r--')\n",
    "    plt.xlim([0, 1])\n",
    "    plt.ylim([0, 1])\n",
    "    plt.ylabel('True Positive Rate')\n",
    "    plt.xlabel('False Positive Rate')\n",
    "    plt.show()"
   ]
  },
  {
   "cell_type": "markdown",
   "metadata": {},
   "source": [
    "## Training Models"
   ]
  },
  {
   "cell_type": "markdown",
   "metadata": {},
   "source": [
    "### Naive Bayes"
   ]
  },
  {
   "cell_type": "code",
   "execution_count": 24,
   "metadata": {},
   "outputs": [
    {
     "name": "stdout",
     "output_type": "stream",
     "text": [
      "train score: 0.7333466743377443\n",
      "validation score: 0.7231615807903952\n"
     ]
    }
   ],
   "source": [
    "# create the model, train it on the train dataset and print the scores\n",
    "model = MultinomialNB() # as implemented in sklearn\n",
    "model.fit(train, y_train)\n",
    "print(\"train score:\", model.score(train, y_train))\n",
    "print(\"validation score:\", model.score(val, y_val))"
   ]
  },
  {
   "cell_type": "markdown",
   "metadata": {},
   "source": [
    "### Support Vector Machine Classifier"
   ]
  },
  {
   "cell_type": "code",
   "execution_count": 25,
   "metadata": {},
   "outputs": [
    {
     "name": "stdout",
     "output_type": "stream",
     "text": [
      "351.15018010139465 seconds\n"
     ]
    }
   ],
   "source": [
    "start = time.time()\n",
    "model = SVC()\n",
    "model.fit(train, y_train)\n",
    "end = time.time()\n",
    "print(end - start, \"seconds\")"
   ]
  },
  {
   "cell_type": "code",
   "execution_count": 26,
   "metadata": {},
   "outputs": [
    {
     "name": "stdout",
     "output_type": "stream",
     "text": [
      "              precision    recall  f1-score   support\n",
      "\n",
      "     related       0.93      0.72      0.81      2767\n",
      "   unrelated       0.90      0.98      0.94      7228\n",
      "\n",
      "    accuracy                           0.91      9995\n",
      "   macro avg       0.91      0.85      0.88      9995\n",
      "weighted avg       0.91      0.91      0.90      9995\n",
      "\n"
     ]
    },
    {
     "data": {
      "image/png": "[encoded data removed]",
      "text/plain": [
       "<Figure size 432x288 with 2 Axes>"
      ]
     },
     "metadata": {},
     "output_type": "display_data"
    },
    {
     "data": {
      "image/png": "[encoded data removed]",
      "text/plain": [
       "<Figure size 864x864 with 1 Axes>"
      ]
     },
     "metadata": {},
     "output_type": "display_data"
    }
   ],
   "source": [
    "y_pred = model.predict(val)\n",
    "\n",
    "print(metrics.classification_report(y_val, y_pred))\n",
    "plot_confussion_matrix(y_val, y_pred)\n",
    "\n",
    "# convert to 0s and 1s for plotting ROC curve\n",
    "roc_y_val = [np.int64(1) if i == 'related' else np.int64(0) for i in y_val]\n",
    "roc_y_pred = [np.int64(1) if i == 'related' else np.int64(0) for i in y_pred]\n",
    "\n",
    "plot_roc_curve(roc_y_val, roc_y_pred)"
   ]
  },
  {
   "cell_type": "code",
   "execution_count": 27,
   "metadata": {},
   "outputs": [
    {
     "name": "stdout",
     "output_type": "stream",
     "text": [
      "3860.5856041908264 seconds\n"
     ]
    }
   ],
   "source": [
    "# training an SVM on TF-IDF features\n",
    "# Define the parameters to tune\n",
    "\n",
    "start = time.time()\n",
    "parameters = {\n",
    "    'C': [1, 10],\n",
    "    'gamma': [1, 'auto', 'scale']\n",
    "}\n",
    "# Tune yyperparameters  using Grid Search and a SVM model\n",
    "model = GridSearchCV(SVC(kernel='rbf'), parameters, cv=5, n_jobs=-1).fit(train, y_train)\n",
    "end = time.time()\n",
    "print(end - start, \"seconds\")"
   ]
  },
  {
   "cell_type": "code",
   "execution_count": 28,
   "metadata": {},
   "outputs": [
    {
     "name": "stdout",
     "output_type": "stream",
     "text": [
      "              precision    recall  f1-score   support\n",
      "\n",
      "     related       0.90      0.87      0.89      2767\n",
      "   unrelated       0.95      0.96      0.96      7228\n",
      "\n",
      "    accuracy                           0.94      9995\n",
      "   macro avg       0.93      0.92      0.92      9995\n",
      "weighted avg       0.94      0.94      0.94      9995\n",
      "\n"
     ]
    },
    {
     "data": {
      "image/png": "[encoded data removed]",
      "text/plain": [
       "<Figure size 432x288 with 2 Axes>"
      ]
     },
     "metadata": {},
     "output_type": "display_data"
    },
    {
     "data": {
      "image/png": "[encoded data removed]",
      "text/plain": [
       "<Figure size 864x864 with 1 Axes>"
      ]
     },
     "metadata": {},
     "output_type": "display_data"
    }
   ],
   "source": [
    "y_pred = model.predict(val)\n",
    "\n",
    "print(metrics.classification_report(y_val, y_pred))\n",
    "plot_confussion_matrix(y_val, y_pred)\n",
    "\n",
    "# convert to 0s and 1s for plotting ROC curve\n",
    "roc_y_val = [np.int64(1) if i == 'related' else np.int64(0) for i in y_val]\n",
    "roc_y_pred = [np.int64(1) if i == 'related' else np.int64(0) for i in y_pred]\n",
    "\n",
    "plot_roc_curve(roc_y_val, roc_y_pred)"
   ]
  },
  {
   "cell_type": "code",
   "execution_count": null,
   "metadata": {},
   "outputs": [],
   "source": []
  }
 ],
 "metadata": {
  "kernelspec": {
   "display_name": "Python 3",
   "language": "python",
   "name": "python3"
  },
  "language_info": {
   "codemirror_mode": {
    "name": "ipython",
    "version": 3
   },
   "file_extension": ".py",
   "mimetype": "text/x-python",
   "name": "python",
   "nbconvert_exporter": "python",
   "pygments_lexer": "ipython3",
   "version": "3.7.6"
  }
 },
 "nbformat": 4,
 "nbformat_minor": 4
}
