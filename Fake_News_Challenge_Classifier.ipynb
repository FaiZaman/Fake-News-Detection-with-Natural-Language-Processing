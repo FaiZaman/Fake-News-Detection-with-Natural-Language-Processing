{
 "cells": [
  {
   "cell_type": "markdown",
   "metadata": {},
   "source": [
    "# Natural Language Processing for the Fake News Challenge"
   ]
  },
  {
   "cell_type": "markdown",
   "metadata": {},
   "source": [
    "## Main Imports"
   ]
  },
  {
   "cell_type": "code",
   "execution_count": 4,
   "metadata": {},
   "outputs": [],
   "source": [
    "import pandas as pd\n",
    "import numpy as np\n",
    "import seaborn as sn\n",
    "import matplotlib.pyplot as plt\n",
    "\n",
    "from sklearn.base import TransformerMixin\n",
    "from sklearn.model_selection import train_test_split\n",
    "from sklearn.naive_bayes import MultinomialNB\n",
    "from sklearn.pipeline import FeatureUnion, make_pipeline, make_union\n",
    "from sklearn.feature_extraction.text import TfidfVectorizer, CountVectorizer\n",
    "\n",
    "from sklearn import metrics\n",
    "from sklearn.metrics import confusion_matrix, accuracy_score, roc_auc_score, roc_curve, auc, f1_score\n",
    "\n",
    "from sklearn.svm import SVC\n",
    "from sklearn.model_selection import GridSearchCV"
   ]
  },
  {
   "cell_type": "markdown",
   "metadata": {},
   "source": [
    "## Set up the data for preprocessing\n",
    "### Load and sample the data"
   ]
  },
  {
   "cell_type": "code",
   "execution_count": 5,
   "metadata": {},
   "outputs": [],
   "source": [
    "data_folder_name = 'data'\n",
    "train_body_filename = 'train_bodies.csv'\n",
    "train_stance_filename = 'train_stances.csv'\n",
    "\n",
    "train_body_path = data_folder_name +'/'+ train_body_filename \n",
    "train_stance_path = data_folder_name + '/' + train_stance_filename\n",
    "\n",
    "body_data = pd.read_csv(train_body_path)\n",
    "stance_data = pd.read_csv(train_stance_path)"
   ]
  },
  {
   "cell_type": "code",
   "execution_count": 6,
   "metadata": {},
   "outputs": [
    {
     "data": {
      "text/html": [
       "<div>\n",
       "<style scoped>\n",
       "    .dataframe tbody tr th:only-of-type {\n",
       "        vertical-align: middle;\n",
       "    }\n",
       "\n",
       "    .dataframe tbody tr th {\n",
       "        vertical-align: top;\n",
       "    }\n",
       "\n",
       "    .dataframe thead th {\n",
       "        text-align: right;\n",
       "    }\n",
       "</style>\n",
       "<table border=\"1\" class=\"dataframe\">\n",
       "  <thead>\n",
       "    <tr style=\"text-align: right;\">\n",
       "      <th></th>\n",
       "      <th>Body ID</th>\n",
       "      <th>articleBody</th>\n",
       "    </tr>\n",
       "  </thead>\n",
       "  <tbody>\n",
       "    <tr>\n",
       "      <th>672</th>\n",
       "      <td>1012</td>\n",
       "      <td>Rep. Duncan Hunter (R-CA) told Greta Van Suste...</td>\n",
       "    </tr>\n",
       "    <tr>\n",
       "      <th>1180</th>\n",
       "      <td>1786</td>\n",
       "      <td>A British man who went to fight against Islami...</td>\n",
       "    </tr>\n",
       "    <tr>\n",
       "      <th>995</th>\n",
       "      <td>1492</td>\n",
       "      <td>Robert Plant’s publicist has described as “rub...</td>\n",
       "    </tr>\n",
       "    <tr>\n",
       "      <th>288</th>\n",
       "      <td>456</td>\n",
       "      <td>Editors' note: There are images in this post t...</td>\n",
       "    </tr>\n",
       "    <tr>\n",
       "      <th>572</th>\n",
       "      <td>854</td>\n",
       "      <td>Momentum for the Apple Watch will likely take ...</td>\n",
       "    </tr>\n",
       "    <tr>\n",
       "      <th>425</th>\n",
       "      <td>643</td>\n",
       "      <td>When Apple unveiled the Apple Watch, the unvei...</td>\n",
       "    </tr>\n",
       "    <tr>\n",
       "      <th>720</th>\n",
       "      <td>1079</td>\n",
       "      <td>Authorities say Bary has a similar accent to t...</td>\n",
       "    </tr>\n",
       "    <tr>\n",
       "      <th>646</th>\n",
       "      <td>978</td>\n",
       "      <td>According to a news source from Taiwan, the ma...</td>\n",
       "    </tr>\n",
       "    <tr>\n",
       "      <th>1567</th>\n",
       "      <td>2351</td>\n",
       "      <td>Sugarhill Gang's Henry 'Big Bank Hank' Jackson...</td>\n",
       "    </tr>\n",
       "    <tr>\n",
       "      <th>376</th>\n",
       "      <td>572</td>\n",
       "      <td>As a feel-good video of a generous homeless ma...</td>\n",
       "    </tr>\n",
       "  </tbody>\n",
       "</table>\n",
       "</div>"
      ],
      "text/plain": [
       "      Body ID                                        articleBody\n",
       "672      1012  Rep. Duncan Hunter (R-CA) told Greta Van Suste...\n",
       "1180     1786  A British man who went to fight against Islami...\n",
       "995      1492  Robert Plant’s publicist has described as “rub...\n",
       "288       456  Editors' note: There are images in this post t...\n",
       "572       854  Momentum for the Apple Watch will likely take ...\n",
       "425       643  When Apple unveiled the Apple Watch, the unvei...\n",
       "720      1079  Authorities say Bary has a similar accent to t...\n",
       "646       978  According to a news source from Taiwan, the ma...\n",
       "1567     2351  Sugarhill Gang's Henry 'Big Bank Hank' Jackson...\n",
       "376       572  As a feel-good video of a generous homeless ma..."
      ]
     },
     "execution_count": 6,
     "metadata": {},
     "output_type": "execute_result"
    }
   ],
   "source": [
    "body_data.sample(10)"
   ]
  },
  {
   "cell_type": "markdown",
   "metadata": {},
   "source": [
    "### Merge the data based on the Body ID to get one dataframe containing the corresponding Headlines and Article Bodies"
   ]
  },
  {
   "cell_type": "code",
   "execution_count": 7,
   "metadata": {},
   "outputs": [
    {
     "data": {
      "text/html": [
       "<div>\n",
       "<style scoped>\n",
       "    .dataframe tbody tr th:only-of-type {\n",
       "        vertical-align: middle;\n",
       "    }\n",
       "\n",
       "    .dataframe tbody tr th {\n",
       "        vertical-align: top;\n",
       "    }\n",
       "\n",
       "    .dataframe thead th {\n",
       "        text-align: right;\n",
       "    }\n",
       "</style>\n",
       "<table border=\"1\" class=\"dataframe\">\n",
       "  <thead>\n",
       "    <tr style=\"text-align: right;\">\n",
       "      <th></th>\n",
       "      <th>Body ID</th>\n",
       "      <th>articleBody</th>\n",
       "      <th>Headline</th>\n",
       "      <th>Stance</th>\n",
       "      <th>Relevance</th>\n",
       "    </tr>\n",
       "  </thead>\n",
       "  <tbody>\n",
       "    <tr>\n",
       "      <th>14627</th>\n",
       "      <td>874</td>\n",
       "      <td>Following the deadly shootings at Charlie Hebd...</td>\n",
       "      <td>Gill Rosenberg, Canadian-Israeli Woman Feared ...</td>\n",
       "      <td>unrelated</td>\n",
       "      <td>unrelated</td>\n",
       "    </tr>\n",
       "    <tr>\n",
       "      <th>19056</th>\n",
       "      <td>1127</td>\n",
       "      <td>Canisters packed with poisonous varieties of s...</td>\n",
       "      <td>ISIS Blasts 'Scorpion Bombs' At Civilian Areas...</td>\n",
       "      <td>agree</td>\n",
       "      <td>related</td>\n",
       "    </tr>\n",
       "    <tr>\n",
       "      <th>39715</th>\n",
       "      <td>2096</td>\n",
       "      <td>Islamic State militants have released a graphi...</td>\n",
       "      <td>Former Porn Star Behind YouTube Sensation ‘DC ...</td>\n",
       "      <td>unrelated</td>\n",
       "      <td>unrelated</td>\n",
       "    </tr>\n",
       "    <tr>\n",
       "      <th>4584</th>\n",
       "      <td>266</td>\n",
       "      <td>In a bizarre twist during the filming of \"Batm...</td>\n",
       "      <td>Batmobile stolen in Detroit? Good one, joker!</td>\n",
       "      <td>discuss</td>\n",
       "      <td>related</td>\n",
       "    </tr>\n",
       "    <tr>\n",
       "      <th>14065</th>\n",
       "      <td>837</td>\n",
       "      <td>On Friday, Nigerian armed forces chief Air Chi...</td>\n",
       "      <td>The baby from Teletubbies reveals herself</td>\n",
       "      <td>unrelated</td>\n",
       "      <td>unrelated</td>\n",
       "    </tr>\n",
       "    <tr>\n",
       "      <th>2501</th>\n",
       "      <td>134</td>\n",
       "      <td>WASHINGTON, Oct. 9 (UPI) -- Homeland Security ...</td>\n",
       "      <td>Jeh Johnson shoots down Duncan Hunter's assert...</td>\n",
       "      <td>agree</td>\n",
       "      <td>related</td>\n",
       "    </tr>\n",
       "    <tr>\n",
       "      <th>21517</th>\n",
       "      <td>1263</td>\n",
       "      <td>BAGHDAD—An Iraqi official on Wednesday denied ...</td>\n",
       "      <td>L. Jinny? Abdel-Majed Abdel Bary, UK Rapper, S...</td>\n",
       "      <td>unrelated</td>\n",
       "      <td>unrelated</td>\n",
       "    </tr>\n",
       "    <tr>\n",
       "      <th>31009</th>\n",
       "      <td>1726</td>\n",
       "      <td>We’ve all had jobs we absolutely can’t stand, ...</td>\n",
       "      <td>That powerful Lego letter to parents from the ...</td>\n",
       "      <td>unrelated</td>\n",
       "      <td>unrelated</td>\n",
       "    </tr>\n",
       "    <tr>\n",
       "      <th>29831</th>\n",
       "      <td>1661</td>\n",
       "      <td>Nicaragua's government said that a mysterious ...</td>\n",
       "      <td>L. Jinny? Abdel-Majed Abdel Bary, UK Rapper, S...</td>\n",
       "      <td>unrelated</td>\n",
       "      <td>unrelated</td>\n",
       "    </tr>\n",
       "    <tr>\n",
       "      <th>43876</th>\n",
       "      <td>2277</td>\n",
       "      <td>Apple took the leap into the wearable space wi...</td>\n",
       "      <td>Rumor: Gold Apple Watch Edition priced up to $...</td>\n",
       "      <td>discuss</td>\n",
       "      <td>related</td>\n",
       "    </tr>\n",
       "  </tbody>\n",
       "</table>\n",
       "</div>"
      ],
      "text/plain": [
       "       Body ID                                        articleBody  \\\n",
       "14627      874  Following the deadly shootings at Charlie Hebd...   \n",
       "19056     1127  Canisters packed with poisonous varieties of s...   \n",
       "39715     2096  Islamic State militants have released a graphi...   \n",
       "4584       266  In a bizarre twist during the filming of \"Batm...   \n",
       "14065      837  On Friday, Nigerian armed forces chief Air Chi...   \n",
       "2501       134  WASHINGTON, Oct. 9 (UPI) -- Homeland Security ...   \n",
       "21517     1263  BAGHDAD—An Iraqi official on Wednesday denied ...   \n",
       "31009     1726  We’ve all had jobs we absolutely can’t stand, ...   \n",
       "29831     1661  Nicaragua's government said that a mysterious ...   \n",
       "43876     2277  Apple took the leap into the wearable space wi...   \n",
       "\n",
       "                                                Headline     Stance  Relevance  \n",
       "14627  Gill Rosenberg, Canadian-Israeli Woman Feared ...  unrelated  unrelated  \n",
       "19056  ISIS Blasts 'Scorpion Bombs' At Civilian Areas...      agree    related  \n",
       "39715  Former Porn Star Behind YouTube Sensation ‘DC ...  unrelated  unrelated  \n",
       "4584       Batmobile stolen in Detroit? Good one, joker!    discuss    related  \n",
       "14065          The baby from Teletubbies reveals herself  unrelated  unrelated  \n",
       "2501   Jeh Johnson shoots down Duncan Hunter's assert...      agree    related  \n",
       "21517  L. Jinny? Abdel-Majed Abdel Bary, UK Rapper, S...  unrelated  unrelated  \n",
       "31009  That powerful Lego letter to parents from the ...  unrelated  unrelated  \n",
       "29831  L. Jinny? Abdel-Majed Abdel Bary, UK Rapper, S...  unrelated  unrelated  \n",
       "43876  Rumor: Gold Apple Watch Edition priced up to $...    discuss    related  "
      ]
     },
     "execution_count": 7,
     "metadata": {},
     "output_type": "execute_result"
    }
   ],
   "source": [
    "total_data = pd.merge(body_data, stance_data, on='Body ID')\n",
    "\n",
    "# randomly drop rows to improve performance on SVM\n",
    "remove_n = 40000\n",
    "drop_indices = np.random.choice(total_data.index, remove_n, replace=False)\n",
    "total_data = total_data.drop(drop_indices)\n",
    "\n",
    "# add relevance column\n",
    "total_data['Relevance'] = np.where(total_data['Stance'] == 'unrelated', 'unrelated', 'related')\n",
    "total_data.sample(10)"
   ]
  },
  {
   "cell_type": "markdown",
   "metadata": {},
   "source": [
    "### Splitting the dataset into train and validation sets"
   ]
  },
  {
   "cell_type": "code",
   "execution_count": 8,
   "metadata": {},
   "outputs": [
    {
     "name": "stdout",
     "output_type": "stream",
     "text": [
      "Size of training set: (7977, 2)\n",
      "Size of validation set: (1995, 2)\n"
     ]
    },
    {
     "data": {
      "text/html": [
       "<div>\n",
       "<style scoped>\n",
       "    .dataframe tbody tr th:only-of-type {\n",
       "        vertical-align: middle;\n",
       "    }\n",
       "\n",
       "    .dataframe tbody tr th {\n",
       "        vertical-align: top;\n",
       "    }\n",
       "\n",
       "    .dataframe thead th {\n",
       "        text-align: right;\n",
       "    }\n",
       "</style>\n",
       "<table border=\"1\" class=\"dataframe\">\n",
       "  <thead>\n",
       "    <tr style=\"text-align: right;\">\n",
       "      <th></th>\n",
       "      <th>Headline</th>\n",
       "      <th>articleBody</th>\n",
       "    </tr>\n",
       "  </thead>\n",
       "  <tbody>\n",
       "    <tr>\n",
       "      <th>11952</th>\n",
       "      <td>Lawmaker Says ‘At Least 10′ Islamic State Figh...</td>\n",
       "      <td>In North Korea, no one can have the same name ...</td>\n",
       "    </tr>\n",
       "    <tr>\n",
       "      <th>4685</th>\n",
       "      <td>Doubts cast over Nicaragua meteorite claim</td>\n",
       "      <td>Islamic State militants have released a video ...</td>\n",
       "    </tr>\n",
       "    <tr>\n",
       "      <th>31899</th>\n",
       "      <td>ISIS Reportedly Beheads U.S. Journalist James ...</td>\n",
       "      <td>A British man who went to fight against Islami...</td>\n",
       "    </tr>\n",
       "    <tr>\n",
       "      <th>19798</th>\n",
       "      <td>Holy Theft! Batmobile Stolen from 'Batman v Su...</td>\n",
       "      <td>It can't be possible. I refuse to believe it. ...</td>\n",
       "    </tr>\n",
       "    <tr>\n",
       "      <th>13536</th>\n",
       "      <td>Amazon plans a streaming-video alternative</td>\n",
       "      <td>A previously unverified audio recording that a...</td>\n",
       "    </tr>\n",
       "    <tr>\n",
       "      <th>11771</th>\n",
       "      <td>James Foley, Missing American Photojournalist,...</td>\n",
       "      <td>With Christian Bale already secured to play th...</td>\n",
       "    </tr>\n",
       "    <tr>\n",
       "      <th>38071</th>\n",
       "      <td>Jihadi John: Mohammed Emwazi named as masked m...</td>\n",
       "      <td>Adding to Apple's iOS 8 launch troubles, a rep...</td>\n",
       "    </tr>\n",
       "    <tr>\n",
       "      <th>175</th>\n",
       "      <td>Judd Nelson rebuffs Internet rumors that he di...</td>\n",
       "      <td>At least 25 suspected Boko Haram insurgents we...</td>\n",
       "    </tr>\n",
       "    <tr>\n",
       "      <th>16444</th>\n",
       "      <td>Pentagon: Airstrike killed terror leader in So...</td>\n",
       "      <td>The Pentagon confirmed today that the U.S. kil...</td>\n",
       "    </tr>\n",
       "    <tr>\n",
       "      <th>18696</th>\n",
       "      <td>Bali Awry</td>\n",
       "      <td>Spotting a spider on the floor may give you a ...</td>\n",
       "    </tr>\n",
       "  </tbody>\n",
       "</table>\n",
       "</div>"
      ],
      "text/plain": [
       "                                                Headline  \\\n",
       "11952  Lawmaker Says ‘At Least 10′ Islamic State Figh...   \n",
       "4685          Doubts cast over Nicaragua meteorite claim   \n",
       "31899  ISIS Reportedly Beheads U.S. Journalist James ...   \n",
       "19798  Holy Theft! Batmobile Stolen from 'Batman v Su...   \n",
       "13536         Amazon plans a streaming-video alternative   \n",
       "11771  James Foley, Missing American Photojournalist,...   \n",
       "38071  Jihadi John: Mohammed Emwazi named as masked m...   \n",
       "175    Judd Nelson rebuffs Internet rumors that he di...   \n",
       "16444  Pentagon: Airstrike killed terror leader in So...   \n",
       "18696                                          Bali Awry   \n",
       "\n",
       "                                             articleBody  \n",
       "11952  In North Korea, no one can have the same name ...  \n",
       "4685   Islamic State militants have released a video ...  \n",
       "31899  A British man who went to fight against Islami...  \n",
       "19798  It can't be possible. I refuse to believe it. ...  \n",
       "13536  A previously unverified audio recording that a...  \n",
       "11771  With Christian Bale already secured to play th...  \n",
       "38071  Adding to Apple's iOS 8 launch troubles, a rep...  \n",
       "175    At least 25 suspected Boko Haram insurgents we...  \n",
       "16444  The Pentagon confirmed today that the U.S. kil...  \n",
       "18696  Spotting a spider on the floor may give you a ...  "
      ]
     },
     "execution_count": 8,
     "metadata": {},
     "output_type": "execute_result"
    }
   ],
   "source": [
    "input_columns = total_data[['Headline', 'articleBody']]\n",
    "target = 'Relevance'\n",
    "X_train, X_val, y_train, y_val = train_test_split(input_columns, total_data[target].values , test_size=0.20, random_state=0)\n",
    "\n",
    "# check the size of our datasets\n",
    "print('Size of training set:', X_train.shape)\n",
    "print('Size of validation set:', X_val.shape)\n",
    "\n",
    "X_train.sample(10)"
   ]
  },
  {
   "cell_type": "markdown",
   "metadata": {},
   "source": [
    "## TF-IDF Feature Extraction\n",
    "### Custom Transformer for Pipeline"
   ]
  },
  {
   "cell_type": "code",
   "execution_count": 9,
   "metadata": {},
   "outputs": [],
   "source": [
    "# custom transformer for column extraction\n",
    "class ColumnExtractor(TransformerMixin):\n",
    "\n",
    "    def __init__(self, column):\n",
    "        self.column = column\n",
    "\n",
    "    def fit(self, X, y=None):\n",
    "        return self\n",
    "\n",
    "    def transform(self, X, y=None):\n",
    "        return X[self.column]"
   ]
  },
  {
   "cell_type": "markdown",
   "metadata": {},
   "source": [
    "### Pipelines and Feature Union of Headline and Article Body\n",
    "- Apply fit transform"
   ]
  },
  {
   "cell_type": "code",
   "execution_count": 10,
   "metadata": {},
   "outputs": [
    {
     "name": "stdout",
     "output_type": "stream",
     "text": [
      "Train size:  (7977, 22949)\n",
      "Val size:  (1995, 22949)\n"
     ]
    }
   ],
   "source": [
    "# feature extraction with TF-IDF\n",
    "\n",
    "# create pipes and perform TF-IDF on Headline and Body columns\n",
    "headline_pipe = make_pipeline(\n",
    "    ColumnExtractor('Headline'),\n",
    "    TfidfVectorizer(decode_error='ignore', min_df=2, max_df=0.5, lowercase=True)\n",
    ")\n",
    "\n",
    "body_pipe = make_pipeline(\n",
    "    ColumnExtractor('articleBody'),\n",
    "    TfidfVectorizer(decode_error='ignore', min_df=2, max_df=0.5, lowercase=True)\n",
    ")\n",
    "\n",
    "# combine headline and body transformers with a feature union and weight equally\n",
    "preprocessor = FeatureUnion(transformer_list=[('headline', headline_pipe),\n",
    "                                              ('body', body_pipe)],\n",
    "                            transformer_weights= {\n",
    "                                    'headline': 0.5,\n",
    "                                    'body': 0.5\n",
    "                               }\n",
    "                           )\n",
    "\n",
    "# fit transform and print data\n",
    "train = preprocessor.fit_transform(X_train)\n",
    "val = preprocessor.transform(X_val)\n",
    "print('Train size: ', train.shape)\n",
    "print('Val size: ', val.shape)"
   ]
  },
  {
   "cell_type": "markdown",
   "metadata": {},
   "source": [
    "## Evaluation Metrics"
   ]
  },
  {
   "cell_type": "markdown",
   "metadata": {},
   "source": [
    "### Confusion Matrix"
   ]
  },
  {
   "cell_type": "code",
   "execution_count": 11,
   "metadata": {},
   "outputs": [],
   "source": [
    "# Create the confussion matrix\n",
    "def plot_confussion_matrix(y_test, y_pred):\n",
    "    ''' Plot the confussion matrix for the target labels and predictions '''\n",
    "    cm = confusion_matrix(y_test, y_pred)\n",
    "\n",
    "    # Create a dataframe with the confussion matrix values\n",
    "    df_cm = pd.DataFrame(cm, range(cm.shape[0]),\n",
    "                  range(cm.shape[1]))\n",
    "\n",
    "    # Plot the confussion matrix\n",
    "    sn.set(font_scale=1.4) #for label size\n",
    "    sn.heatmap(df_cm, annot=True,fmt='.0f',cmap=\"YlGnBu\",annot_kws={\"size\": 10})# font size\n",
    "    plt.show()"
   ]
  },
  {
   "cell_type": "markdown",
   "metadata": {},
   "source": [
    "### ROC Curve"
   ]
  },
  {
   "cell_type": "code",
   "execution_count": 12,
   "metadata": {},
   "outputs": [],
   "source": [
    "# ROC Curve\n",
    "# plot no skill\n",
    "# Calculate the points in the ROC curve\n",
    "def plot_roc_curve(y_test, y_pred):\n",
    "    ''' Plot the ROC curve for the target labels and predictions'''\n",
    "    fpr, tpr, thresholds = roc_curve(y_test, y_pred, pos_label=1)\n",
    "    roc_auc= auc(fpr,tpr)\n",
    "    plt.figure(figsize=(12, 12))\n",
    "    ax = plt.subplot(121)\n",
    "    ax.set_aspect(1)\n",
    "    \n",
    "    plt.title('Receiver Operating Characteristic')\n",
    "    plt.plot(fpr, tpr, 'b', label = 'AUC = %0.2f' % roc_auc)\n",
    "    plt.legend(loc = 'lower right')\n",
    "    plt.plot([0, 1], [0, 1],'r--')\n",
    "    plt.xlim([0, 1])\n",
    "    plt.ylim([0, 1])\n",
    "    plt.ylabel('True Positive Rate')\n",
    "    plt.xlabel('False Positive Rate')\n",
    "    plt.show()"
   ]
  },
  {
   "cell_type": "markdown",
   "metadata": {},
   "source": [
    "## Training Models"
   ]
  },
  {
   "cell_type": "markdown",
   "metadata": {},
   "source": [
    "### Naive Bayes"
   ]
  },
  {
   "cell_type": "code",
   "execution_count": 13,
   "metadata": {},
   "outputs": [
    {
     "name": "stdout",
     "output_type": "stream",
     "text": [
      "train score: 0.7298483139024696\n",
      "validation score: 0.7228070175438597\n"
     ]
    }
   ],
   "source": [
    "# create the model, train it on the train dataset and print the scores\n",
    "model = MultinomialNB() # as implemented in sklearn\n",
    "model.fit(train, y_train)\n",
    "print(\"train score:\", model.score(train, y_train))\n",
    "print(\"validation score:\", model.score(val, y_val))"
   ]
  },
  {
   "cell_type": "markdown",
   "metadata": {},
   "source": [
    "### Support Vector Machine Classifier"
   ]
  },
  {
   "cell_type": "code",
   "execution_count": 14,
   "metadata": {},
   "outputs": [
    {
     "data": {
      "text/plain": [
       "SVC(C=1.0, break_ties=False, cache_size=200, class_weight=None, coef0=0.0,\n",
       "    decision_function_shape='ovr', degree=3, gamma='scale', kernel='rbf',\n",
       "    max_iter=-1, probability=False, random_state=None, shrinking=True,\n",
       "    tol=0.001, verbose=False)"
      ]
     },
     "execution_count": 14,
     "metadata": {},
     "output_type": "execute_result"
    }
   ],
   "source": [
    "model = SVC()\n",
    "model.fit(train, y_train)"
   ]
  },
  {
   "cell_type": "code",
   "execution_count": 15,
   "metadata": {},
   "outputs": [
    {
     "name": "stdout",
     "output_type": "stream",
     "text": [
      "              precision    recall  f1-score   support\n",
      "\n",
      "     related       0.99      0.64      0.78       555\n",
      "   unrelated       0.88      1.00      0.93      1440\n",
      "\n",
      "    accuracy                           0.90      1995\n",
      "   macro avg       0.93      0.82      0.86      1995\n",
      "weighted avg       0.91      0.90      0.89      1995\n",
      "\n"
     ]
    },
    {
     "data": {
      "image/png": "[encoded data removed]",
      "text/plain": [
       "<Figure size 432x288 with 2 Axes>"
      ]
     },
     "metadata": {},
     "output_type": "display_data"
    },
    {
     "data": {
      "image/png": "[encoded data removed]",
      "text/plain": [
       "<Figure size 864x864 with 1 Axes>"
      ]
     },
     "metadata": {},
     "output_type": "display_data"
    }
   ],
   "source": [
    "y_pred = model.predict(val)\n",
    "\n",
    "print(metrics.classification_report(y_val, y_pred))\n",
    "plot_confussion_matrix(y_val, y_pred)\n",
    "\n",
    "# convert to 0s and 1s for plotting ROC curve\n",
    "roc_y_val = [np.int64(1) if i == 'related' else np.int64(0) for i in y_val]\n",
    "roc_y_pred = [np.int64(1) if i == 'related' else np.int64(0) for i in y_pred]\n",
    "\n",
    "plot_roc_curve(roc_y_val, roc_y_pred)"
   ]
  },
  {
   "cell_type": "code",
   "execution_count": 16,
   "metadata": {},
   "outputs": [],
   "source": [
    "# training an SVM on TF-IDF features\n",
    "# Define the parameters to tune\n",
    "\n",
    "parameters = {\n",
    "    'C': [1, 10],\n",
    "    'gamma': [1, 'auto', 'scale']\n",
    "}\n",
    "# Tune yyperparameters  using Grid Search and a SVM model\n",
    "model = GridSearchCV(SVC(kernel='rbf'), parameters, cv=5, n_jobs=-1).fit(train, y_train)\n"
   ]
  },
  {
   "cell_type": "code",
   "execution_count": 17,
   "metadata": {},
   "outputs": [
    {
     "name": "stdout",
     "output_type": "stream",
     "text": [
      "              precision    recall  f1-score   support\n",
      "\n",
      "     related       0.97      0.85      0.91       555\n",
      "   unrelated       0.95      0.99      0.97      1440\n",
      "\n",
      "    accuracy                           0.95      1995\n",
      "   macro avg       0.96      0.92      0.94      1995\n",
      "weighted avg       0.95      0.95      0.95      1995\n",
      "\n"
     ]
    },
    {
     "data": {
      "image/png": "[encoded data removed]",
      "text/plain": [
       "<Figure size 432x288 with 2 Axes>"
      ]
     },
     "metadata": {},
     "output_type": "display_data"
    },
    {
     "data": {
      "image/png": "[encoded data removed]",
      "text/plain": [
       "<Figure size 864x864 with 1 Axes>"
      ]
     },
     "metadata": {},
     "output_type": "display_data"
    }
   ],
   "source": [
    "y_pred = model.predict(val)\n",
    "\n",
    "print(metrics.classification_report(y_val, y_pred))\n",
    "plot_confussion_matrix(y_val, y_pred)\n",
    "\n",
    "# convert to 0s and 1s for plotting ROC curve\n",
    "roc_y_val = [np.int64(1) if i == 'related' else np.int64(0) for i in y_val]\n",
    "roc_y_pred = [np.int64(1) if i == 'related' else np.int64(0) for i in y_pred]\n",
    "\n",
    "plot_roc_curve(roc_y_val, roc_y_pred)"
   ]
  },
  {
   "cell_type": "code",
   "execution_count": null,
   "metadata": {},
   "outputs": [],
   "source": []
  }
 ],
 "metadata": {
  "kernelspec": {
   "display_name": "Python 3",
   "language": "python",
   "name": "python3"
  },
  "language_info": {
   "codemirror_mode": {
    "name": "ipython",
    "version": 3
   },
   "file_extension": ".py",
   "mimetype": "text/x-python",
   "name": "python",
   "nbconvert_exporter": "python",
   "pygments_lexer": "ipython3",
   "version": "3.7.6"
  }
 },
 "nbformat": 4,
 "nbformat_minor": 4
}
