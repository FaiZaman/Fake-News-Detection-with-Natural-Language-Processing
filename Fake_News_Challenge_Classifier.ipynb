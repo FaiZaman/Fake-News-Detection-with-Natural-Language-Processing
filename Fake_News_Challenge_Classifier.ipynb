{
 "cells": [
  {
   "cell_type": "markdown",
   "metadata": {
    "id": "Gt8xjSI55p7v"
   },
   "source": [
    "# Natural Language Processing for the Fake News Challenge"
   ]
  },
  {
   "cell_type": "markdown",
   "metadata": {
    "id": "5zO-0kGB5p73"
   },
   "source": [
    "## Main Imports"
   ]
  },
  {
   "cell_type": "code",
   "execution_count": 16,
   "metadata": {
    "executionInfo": {
     "elapsed": 5293,
     "status": "ok",
     "timestamp": 1618773495495,
     "user": {
      "displayName": "Faiz Zaman",
      "photoUrl": "https://lh3.googleusercontent.com/a-/AOh14GiPZ2wigvvlNsGJdPqeQIQVxr-MyUl09zALC2dCQg=s64",
      "userId": "11900101326516043479"
     },
     "user_tz": -60
    },
    "id": "KnRMWSkr5p74"
   },
   "outputs": [],
   "source": [
    "import time\n",
    "import torch\n",
    "import transformers\n",
    "import numpy as np\n",
    "import pandas as pd\n",
    "import seaborn as sn\n",
    "import matplotlib.pyplot as plt\n",
    "\n",
    "from joblib import dump, load\n",
    "from sklearn.base import TransformerMixin\n",
    "from sklearn.model_selection import train_test_split\n",
    "from sklearn.naive_bayes import MultinomialNB\n",
    "from sklearn.pipeline import FeatureUnion, make_pipeline, make_union\n",
    "from sklearn.feature_extraction.text import TfidfVectorizer, CountVectorizer\n",
    "\n",
    "from sklearn import metrics\n",
    "from sklearn.metrics import confusion_matrix, accuracy_score, roc_auc_score, roc_curve, auc, f1_score\n",
    "\n",
    "from sklearn.svm import SVC\n",
    "from sklearn.model_selection import GridSearchCV"
   ]
  },
  {
   "cell_type": "code",
   "execution_count": null,
   "metadata": {
    "colab": {
     "base_uri": "https://localhost:8080/"
    },
    "executionInfo": {
     "elapsed": 6995,
     "status": "ok",
     "timestamp": 1618773504201,
     "user": {
      "displayName": "Faiz Zaman",
      "photoUrl": "https://lh3.googleusercontent.com/a-/AOh14GiPZ2wigvvlNsGJdPqeQIQVxr-MyUl09zALC2dCQg=s64",
      "userId": "11900101326516043479"
     },
     "user_tz": -60
    },
    "id": "sYspJEfqLS-s",
    "outputId": "100015bb-872c-4b60-e409-0bf61c3dc5c3"
   },
   "outputs": [],
   "source": [
    "!pip install transformers\n",
    "import transformers"
   ]
  },
  {
   "cell_type": "markdown",
   "metadata": {
    "id": "TRF_Qzpy5p75"
   },
   "source": [
    "## Set up the data for preprocessing\n",
    "### Load and sample the data"
   ]
  },
  {
   "cell_type": "code",
   "execution_count": 3,
   "metadata": {
    "executionInfo": {
     "elapsed": 559,
     "status": "ok",
     "timestamp": 1618773627620,
     "user": {
      "displayName": "Faiz Zaman",
      "photoUrl": "https://lh3.googleusercontent.com/a-/AOh14GiPZ2wigvvlNsGJdPqeQIQVxr-MyUl09zALC2dCQg=s64",
      "userId": "11900101326516043479"
     },
     "user_tz": -60
    },
    "id": "IdU6e7JT5p75"
   },
   "outputs": [],
   "source": [
    "data_folder_name = 'data'\n",
    "train_body_filename = 'train_bodies.csv'\n",
    "train_stance_filename = 'train_stances.csv'\n",
    "\n",
    "train_body_path = data_folder_name +'/'+ train_body_filename \n",
    "train_stance_path = data_folder_name + '/' + train_stance_filename\n",
    "\n",
    "body_data = pd.read_csv(train_body_path)\n",
    "stance_data = pd.read_csv(train_stance_path)"
   ]
  },
  {
   "cell_type": "code",
   "execution_count": 4,
   "metadata": {
    "colab": {
     "base_uri": "https://localhost:8080/",
     "height": 343
    },
    "executionInfo": {
     "elapsed": 585,
     "status": "ok",
     "timestamp": 1618773631775,
     "user": {
      "displayName": "Faiz Zaman",
      "photoUrl": "https://lh3.googleusercontent.com/a-/AOh14GiPZ2wigvvlNsGJdPqeQIQVxr-MyUl09zALC2dCQg=s64",
      "userId": "11900101326516043479"
     },
     "user_tz": -60
    },
    "id": "5IJt_Ey55p75",
    "outputId": "bd9e0f7e-eb7c-4afa-e899-95b2bc72f0ae"
   },
   "outputs": [
    {
     "data": {
      "text/html": [
       "<div>\n",
       "<style scoped>\n",
       "    .dataframe tbody tr th:only-of-type {\n",
       "        vertical-align: middle;\n",
       "    }\n",
       "\n",
       "    .dataframe tbody tr th {\n",
       "        vertical-align: top;\n",
       "    }\n",
       "\n",
       "    .dataframe thead th {\n",
       "        text-align: right;\n",
       "    }\n",
       "</style>\n",
       "<table border=\"1\" class=\"dataframe\">\n",
       "  <thead>\n",
       "    <tr style=\"text-align: right;\">\n",
       "      <th></th>\n",
       "      <th>Body ID</th>\n",
       "      <th>articleBody</th>\n",
       "    </tr>\n",
       "  </thead>\n",
       "  <tbody>\n",
       "    <tr>\n",
       "      <th>1301</th>\n",
       "      <td>1957</td>\n",
       "      <td>Russian President Vladimir Putin last Friday u...</td>\n",
       "    </tr>\n",
       "    <tr>\n",
       "      <th>239</th>\n",
       "      <td>383</td>\n",
       "      <td>The sale of a private island in Lake Mälaren h...</td>\n",
       "    </tr>\n",
       "    <tr>\n",
       "      <th>622</th>\n",
       "      <td>945</td>\n",
       "      <td>Christian Bale will slip into a mock turtlenec...</td>\n",
       "    </tr>\n",
       "    <tr>\n",
       "      <th>339</th>\n",
       "      <td>523</td>\n",
       "      <td>In a mass influx of basicness, it seems Durex ...</td>\n",
       "    </tr>\n",
       "    <tr>\n",
       "      <th>180</th>\n",
       "      <td>283</td>\n",
       "      <td>UPDATE: ESPN has confirmed that no such panel ...</td>\n",
       "    </tr>\n",
       "    <tr>\n",
       "      <th>1248</th>\n",
       "      <td>1877</td>\n",
       "      <td>A woman detained by Lebanese authorities was n...</td>\n",
       "    </tr>\n",
       "    <tr>\n",
       "      <th>1032</th>\n",
       "      <td>1547</td>\n",
       "      <td>A picture of a letter to parents from a box of...</td>\n",
       "    </tr>\n",
       "    <tr>\n",
       "      <th>862</th>\n",
       "      <td>1301</td>\n",
       "      <td>Elusive graffiti artist Banksy’s cover was blo...</td>\n",
       "    </tr>\n",
       "    <tr>\n",
       "      <th>171</th>\n",
       "      <td>269</td>\n",
       "      <td>Islamic State militants have released a video ...</td>\n",
       "    </tr>\n",
       "    <tr>\n",
       "      <th>570</th>\n",
       "      <td>852</td>\n",
       "      <td>After a solid week of coming to terms with the...</td>\n",
       "    </tr>\n",
       "  </tbody>\n",
       "</table>\n",
       "</div>"
      ],
      "text/plain": [
       "      Body ID                                        articleBody\n",
       "1301     1957  Russian President Vladimir Putin last Friday u...\n",
       "239       383  The sale of a private island in Lake Mälaren h...\n",
       "622       945  Christian Bale will slip into a mock turtlenec...\n",
       "339       523  In a mass influx of basicness, it seems Durex ...\n",
       "180       283  UPDATE: ESPN has confirmed that no such panel ...\n",
       "1248     1877  A woman detained by Lebanese authorities was n...\n",
       "1032     1547  A picture of a letter to parents from a box of...\n",
       "862      1301  Elusive graffiti artist Banksy’s cover was blo...\n",
       "171       269  Islamic State militants have released a video ...\n",
       "570       852  After a solid week of coming to terms with the..."
      ]
     },
     "execution_count": 4,
     "metadata": {},
     "output_type": "execute_result"
    }
   ],
   "source": [
    "body_data.sample(10)"
   ]
  },
  {
   "cell_type": "markdown",
   "metadata": {
    "id": "4K6K0Iun5p77"
   },
   "source": [
    "### Merge the data based on the Body ID to get one dataframe containing the corresponding Headlines and Article Bodies"
   ]
  },
  {
   "cell_type": "code",
   "execution_count": 5,
   "metadata": {
    "colab": {
     "base_uri": "https://localhost:8080/",
     "height": 343
    },
    "executionInfo": {
     "elapsed": 533,
     "status": "ok",
     "timestamp": 1618773895758,
     "user": {
      "displayName": "Faiz Zaman",
      "photoUrl": "https://lh3.googleusercontent.com/a-/AOh14GiPZ2wigvvlNsGJdPqeQIQVxr-MyUl09zALC2dCQg=s64",
      "userId": "11900101326516043479"
     },
     "user_tz": -60
    },
    "id": "qkIfT10c5p77",
    "outputId": "3184b1a3-1e1f-41c4-caf4-278f6c9155e5"
   },
   "outputs": [
    {
     "data": {
      "text/html": [
       "<div>\n",
       "<style scoped>\n",
       "    .dataframe tbody tr th:only-of-type {\n",
       "        vertical-align: middle;\n",
       "    }\n",
       "\n",
       "    .dataframe tbody tr th {\n",
       "        vertical-align: top;\n",
       "    }\n",
       "\n",
       "    .dataframe thead th {\n",
       "        text-align: right;\n",
       "    }\n",
       "</style>\n",
       "<table border=\"1\" class=\"dataframe\">\n",
       "  <thead>\n",
       "    <tr style=\"text-align: right;\">\n",
       "      <th></th>\n",
       "      <th>Body ID</th>\n",
       "      <th>articleBody</th>\n",
       "      <th>Headline</th>\n",
       "      <th>Stance</th>\n",
       "      <th>Relevance</th>\n",
       "    </tr>\n",
       "  </thead>\n",
       "  <tbody>\n",
       "    <tr>\n",
       "      <th>42697</th>\n",
       "      <td>2223</td>\n",
       "      <td>Piper Jaffray’s Gene Munster has issued a new ...</td>\n",
       "      <td>Video: Islamic State Claims to Have Captured U...</td>\n",
       "      <td>unrelated</td>\n",
       "      <td>unrelated</td>\n",
       "    </tr>\n",
       "    <tr>\n",
       "      <th>13853</th>\n",
       "      <td>826</td>\n",
       "      <td>American photojournalist Luke Somers, held hos...</td>\n",
       "      <td>U.S. Hostage Luke Somers Killed During Yemen R...</td>\n",
       "      <td>discuss</td>\n",
       "      <td>related</td>\n",
       "    </tr>\n",
       "    <tr>\n",
       "      <th>44423</th>\n",
       "      <td>2296</td>\n",
       "      <td>North Korean despot Kim Jong-un has been guzzl...</td>\n",
       "      <td>GOP Rep. Duncan Hunter Claims 'At Least' 10 IS...</td>\n",
       "      <td>unrelated</td>\n",
       "      <td>unrelated</td>\n",
       "    </tr>\n",
       "    <tr>\n",
       "      <th>15261</th>\n",
       "      <td>919</td>\n",
       "      <td>Predator drones have started to fly over Raqqa...</td>\n",
       "      <td>Christian Bale in Talks to Play Steve Jobs (Ex...</td>\n",
       "      <td>unrelated</td>\n",
       "      <td>unrelated</td>\n",
       "    </tr>\n",
       "    <tr>\n",
       "      <th>5804</th>\n",
       "      <td>342</td>\n",
       "      <td>The handsomely charismatic Dr. Drake Ramoray f...</td>\n",
       "      <td>Kurt Sutter Announces Plans For ‘Sons Of Anarc...</td>\n",
       "      <td>unrelated</td>\n",
       "      <td>unrelated</td>\n",
       "    </tr>\n",
       "    <tr>\n",
       "      <th>31268</th>\n",
       "      <td>1742</td>\n",
       "      <td>Barack and Michelle Obama are in Riyadh today ...</td>\n",
       "      <td>Doubts cast over Nicaragua meteorite claim</td>\n",
       "      <td>unrelated</td>\n",
       "      <td>unrelated</td>\n",
       "    </tr>\n",
       "    <tr>\n",
       "      <th>44907</th>\n",
       "      <td>2307</td>\n",
       "      <td>The Pentagon has confirmed that the weapons we...</td>\n",
       "      <td>Video: Islamic State Claims to Have Captured U...</td>\n",
       "      <td>discuss</td>\n",
       "      <td>related</td>\n",
       "    </tr>\n",
       "    <tr>\n",
       "      <th>35598</th>\n",
       "      <td>1917</td>\n",
       "      <td>Apple originally planned for the Apple Watch t...</td>\n",
       "      <td>Rare meteorite impact causes blast in Nicaragu...</td>\n",
       "      <td>unrelated</td>\n",
       "      <td>unrelated</td>\n",
       "    </tr>\n",
       "    <tr>\n",
       "      <th>382</th>\n",
       "      <td>15</td>\n",
       "      <td>Don't fucking cheat on Cassy, aka @NessLovnTre...</td>\n",
       "      <td>Unverified video shows beheading of aid worker...</td>\n",
       "      <td>unrelated</td>\n",
       "      <td>unrelated</td>\n",
       "    </tr>\n",
       "    <tr>\n",
       "      <th>33195</th>\n",
       "      <td>1827</td>\n",
       "      <td>As reported by the Daily Star, the despot has ...</td>\n",
       "      <td>Kim Jong-un necks litres of rare SNAKE wine be...</td>\n",
       "      <td>discuss</td>\n",
       "      <td>related</td>\n",
       "    </tr>\n",
       "  </tbody>\n",
       "</table>\n",
       "</div>"
      ],
      "text/plain": [
       "       Body ID                                        articleBody  \\\n",
       "42697     2223  Piper Jaffray’s Gene Munster has issued a new ...   \n",
       "13853      826  American photojournalist Luke Somers, held hos...   \n",
       "44423     2296  North Korean despot Kim Jong-un has been guzzl...   \n",
       "15261      919  Predator drones have started to fly over Raqqa...   \n",
       "5804       342  The handsomely charismatic Dr. Drake Ramoray f...   \n",
       "31268     1742  Barack and Michelle Obama are in Riyadh today ...   \n",
       "44907     2307  The Pentagon has confirmed that the weapons we...   \n",
       "35598     1917  Apple originally planned for the Apple Watch t...   \n",
       "382         15  Don't fucking cheat on Cassy, aka @NessLovnTre...   \n",
       "33195     1827  As reported by the Daily Star, the despot has ...   \n",
       "\n",
       "                                                Headline     Stance  Relevance  \n",
       "42697  Video: Islamic State Claims to Have Captured U...  unrelated  unrelated  \n",
       "13853  U.S. Hostage Luke Somers Killed During Yemen R...    discuss    related  \n",
       "44423  GOP Rep. Duncan Hunter Claims 'At Least' 10 IS...  unrelated  unrelated  \n",
       "15261  Christian Bale in Talks to Play Steve Jobs (Ex...  unrelated  unrelated  \n",
       "5804   Kurt Sutter Announces Plans For ‘Sons Of Anarc...  unrelated  unrelated  \n",
       "31268         Doubts cast over Nicaragua meteorite claim  unrelated  unrelated  \n",
       "44907  Video: Islamic State Claims to Have Captured U...    discuss    related  \n",
       "35598  Rare meteorite impact causes blast in Nicaragu...  unrelated  unrelated  \n",
       "382    Unverified video shows beheading of aid worker...  unrelated  unrelated  \n",
       "33195  Kim Jong-un necks litres of rare SNAKE wine be...    discuss    related  "
      ]
     },
     "execution_count": 5,
     "metadata": {},
     "output_type": "execute_result"
    }
   ],
   "source": [
    "total_data = pd.merge(body_data, stance_data, on='Body ID')\n",
    "\n",
    "# randomly drop rows to improve performance on SVM\n",
    "remove_n = 0\n",
    "drop_indices = np.random.choice(total_data.index, remove_n, replace=False)\n",
    "total_data = total_data.drop(drop_indices)\n",
    "\n",
    "# add relevance column\n",
    "total_data['Relevance'] = np.where(total_data['Stance'] == 'unrelated', 'unrelated', 'related')\n",
    "total_data.sample(10)"
   ]
  },
  {
   "cell_type": "markdown",
   "metadata": {
    "id": "5wm3B_Cl5p77"
   },
   "source": [
    "### Splitting the dataset into train and validation sets"
   ]
  },
  {
   "cell_type": "code",
   "execution_count": 6,
   "metadata": {
    "colab": {
     "base_uri": "https://localhost:8080/",
     "height": 377
    },
    "executionInfo": {
     "elapsed": 817,
     "status": "ok",
     "timestamp": 1618773899258,
     "user": {
      "displayName": "Faiz Zaman",
      "photoUrl": "https://lh3.googleusercontent.com/a-/AOh14GiPZ2wigvvlNsGJdPqeQIQVxr-MyUl09zALC2dCQg=s64",
      "userId": "11900101326516043479"
     },
     "user_tz": -60
    },
    "id": "7xXbDHrk5p78",
    "outputId": "58fd13b4-6304-4bb0-8743-a87182054962"
   },
   "outputs": [
    {
     "name": "stdout",
     "output_type": "stream",
     "text": [
      "Size of training set: (39977, 2)\n",
      "Size of validation set: (9995, 2)\n"
     ]
    },
    {
     "data": {
      "text/html": [
       "<div>\n",
       "<style scoped>\n",
       "    .dataframe tbody tr th:only-of-type {\n",
       "        vertical-align: middle;\n",
       "    }\n",
       "\n",
       "    .dataframe tbody tr th {\n",
       "        vertical-align: top;\n",
       "    }\n",
       "\n",
       "    .dataframe thead th {\n",
       "        text-align: right;\n",
       "    }\n",
       "</style>\n",
       "<table border=\"1\" class=\"dataframe\">\n",
       "  <thead>\n",
       "    <tr style=\"text-align: right;\">\n",
       "      <th></th>\n",
       "      <th>Headline</th>\n",
       "      <th>articleBody</th>\n",
       "    </tr>\n",
       "  </thead>\n",
       "  <tbody>\n",
       "    <tr>\n",
       "      <th>6437</th>\n",
       "      <td>Jeh Johnson: Politicians Shouldn't 'Feed The F...</td>\n",
       "      <td>Rome| An Italian expert studying a first centu...</td>\n",
       "    </tr>\n",
       "    <tr>\n",
       "      <th>24824</th>\n",
       "      <td>‘Wild Misinformation’: Brian Williams Explains...</td>\n",
       "      <td>Police will stop arresting people for low-leve...</td>\n",
       "    </tr>\n",
       "    <tr>\n",
       "      <th>35871</th>\n",
       "      <td>This Is a Truly Horrifying Story About a Spider</td>\n",
       "      <td>Fear not arachnophobes, the story of Bunbury's...</td>\n",
       "    </tr>\n",
       "    <tr>\n",
       "      <th>32753</th>\n",
       "      <td>Paul Rudd Helped Tackle A Violent Homophobe So...</td>\n",
       "      <td>In 2015, there’s the quality-fake news and the...</td>\n",
       "    </tr>\n",
       "    <tr>\n",
       "      <th>29402</th>\n",
       "      <td>Unconfirmed reports saying ISIS UK Hostage Dav...</td>\n",
       "      <td>Islamic State of Iraq and Syria leader Abu Bak...</td>\n",
       "    </tr>\n",
       "    <tr>\n",
       "      <th>10408</th>\n",
       "      <td>British-born rapper is main suspect in search ...</td>\n",
       "      <td>A man in his mid-to-late 50s is reportedly sla...</td>\n",
       "    </tr>\n",
       "    <tr>\n",
       "      <th>9695</th>\n",
       "      <td>Abdel Majed Abdel Bary Emerges as Suspect in F...</td>\n",
       "      <td>(CNN) -- Scratch Christian Bale off the list o...</td>\n",
       "    </tr>\n",
       "    <tr>\n",
       "      <th>38160</th>\n",
       "      <td>Caught a catfish record in Po: 127 kg and 2.67...</td>\n",
       "      <td>When a report went viral that NBC meteorologis...</td>\n",
       "    </tr>\n",
       "    <tr>\n",
       "      <th>45802</th>\n",
       "      <td>New Audio Shows Michael Brown Was Shot at 11 T...</td>\n",
       "      <td>Video messaging firm confirmed today the tape ...</td>\n",
       "    </tr>\n",
       "    <tr>\n",
       "      <th>1863</th>\n",
       "      <td>Daash Ebola transferred to Mosul {Google Trans...</td>\n",
       "      <td>A Chinese woman spent an entire week in a KFC ...</td>\n",
       "    </tr>\n",
       "  </tbody>\n",
       "</table>\n",
       "</div>"
      ],
      "text/plain": [
       "                                                Headline  \\\n",
       "6437   Jeh Johnson: Politicians Shouldn't 'Feed The F...   \n",
       "24824  ‘Wild Misinformation’: Brian Williams Explains...   \n",
       "35871    This Is a Truly Horrifying Story About a Spider   \n",
       "32753  Paul Rudd Helped Tackle A Violent Homophobe So...   \n",
       "29402  Unconfirmed reports saying ISIS UK Hostage Dav...   \n",
       "10408  British-born rapper is main suspect in search ...   \n",
       "9695   Abdel Majed Abdel Bary Emerges as Suspect in F...   \n",
       "38160  Caught a catfish record in Po: 127 kg and 2.67...   \n",
       "45802  New Audio Shows Michael Brown Was Shot at 11 T...   \n",
       "1863   Daash Ebola transferred to Mosul {Google Trans...   \n",
       "\n",
       "                                             articleBody  \n",
       "6437   Rome| An Italian expert studying a first centu...  \n",
       "24824  Police will stop arresting people for low-leve...  \n",
       "35871  Fear not arachnophobes, the story of Bunbury's...  \n",
       "32753  In 2015, there’s the quality-fake news and the...  \n",
       "29402  Islamic State of Iraq and Syria leader Abu Bak...  \n",
       "10408  A man in his mid-to-late 50s is reportedly sla...  \n",
       "9695   (CNN) -- Scratch Christian Bale off the list o...  \n",
       "38160  When a report went viral that NBC meteorologis...  \n",
       "45802  Video messaging firm confirmed today the tape ...  \n",
       "1863   A Chinese woman spent an entire week in a KFC ...  "
      ]
     },
     "execution_count": 6,
     "metadata": {},
     "output_type": "execute_result"
    }
   ],
   "source": [
    "input_columns = total_data[['Headline', 'articleBody']]\n",
    "target = 'Relevance'\n",
    "X_train, X_val, y_train, y_val = train_test_split(input_columns, total_data[target].values , test_size=0.20, random_state=0)\n",
    "\n",
    "# check the size of our datasets\n",
    "print('Size of training set:', X_train.shape)\n",
    "print('Size of validation set:', X_val.shape)\n",
    "\n",
    "X_train.sample(10)"
   ]
  },
  {
   "cell_type": "markdown",
   "metadata": {
    "id": "EDlHaKJD5p78"
   },
   "source": [
    "## TF-IDF Feature Extraction\n",
    "### Custom Transformer for Pipeline"
   ]
  },
  {
   "cell_type": "code",
   "execution_count": 7,
   "metadata": {
    "executionInfo": {
     "elapsed": 533,
     "status": "ok",
     "timestamp": 1618773902335,
     "user": {
      "displayName": "Faiz Zaman",
      "photoUrl": "https://lh3.googleusercontent.com/a-/AOh14GiPZ2wigvvlNsGJdPqeQIQVxr-MyUl09zALC2dCQg=s64",
      "userId": "11900101326516043479"
     },
     "user_tz": -60
    },
    "id": "l99OWzSj5p78"
   },
   "outputs": [],
   "source": [
    "# custom transformer for column extraction\n",
    "class ColumnExtractor(TransformerMixin):\n",
    "\n",
    "    def __init__(self, column):\n",
    "        self.column = column\n",
    "\n",
    "    def fit(self, X, y=None):\n",
    "        return self\n",
    "\n",
    "    def transform(self, X, y=None):\n",
    "        return X[self.column]"
   ]
  },
  {
   "cell_type": "markdown",
   "metadata": {
    "id": "VzU5ceNa5p78"
   },
   "source": [
    "### Pipelines and Feature Union of Headline and Article Body\n",
    "- Apply fit transform"
   ]
  },
  {
   "cell_type": "code",
   "execution_count": 8,
   "metadata": {
    "colab": {
     "base_uri": "https://localhost:8080/"
    },
    "executionInfo": {
     "elapsed": 12965,
     "status": "ok",
     "timestamp": 1618773916773,
     "user": {
      "displayName": "Faiz Zaman",
      "photoUrl": "https://lh3.googleusercontent.com/a-/AOh14GiPZ2wigvvlNsGJdPqeQIQVxr-MyUl09zALC2dCQg=s64",
      "userId": "11900101326516043479"
     },
     "user_tz": -60
    },
    "id": "N5fuvnb25p79",
    "outputId": "2d85e46a-b733-4606-c9bc-e0bfc4ac04d6"
   },
   "outputs": [
    {
     "name": "stdout",
     "output_type": "stream",
     "text": [
      "Train size:  (39977, 100)\n",
      "Val size:  (9995, 100)\n"
     ]
    }
   ],
   "source": [
    "# feature extraction with TF-IDF\n",
    "\n",
    "# create pipes and perform TF-IDF on Headline and Body columns\n",
    "headline_pipe = make_pipeline(\n",
    "    ColumnExtractor('Headline'),\n",
    "    TfidfVectorizer(decode_error='ignore', min_df=4, max_df=0.5, max_features=50, lowercase=True)\n",
    ")\n",
    "\n",
    "body_pipe = make_pipeline(\n",
    "    ColumnExtractor('articleBody'),\n",
    "    TfidfVectorizer(decode_error='ignore', min_df=4, max_df=0.5, max_features=50, lowercase=True)\n",
    ")\n",
    "\n",
    "# combine headline and body transformers with a feature union and weight equally\n",
    "preprocessor = FeatureUnion(transformer_list=[('headline', headline_pipe),\n",
    "                                              ('body', body_pipe)],\n",
    "                            transformer_weights= {\n",
    "                                    'headline': 0.5,\n",
    "                                    'body': 0.5\n",
    "                               }\n",
    "                           )\n",
    "\n",
    "# fit transform and print data\n",
    "train = preprocessor.fit_transform(X_train)\n",
    "val = preprocessor.transform(X_val)\n",
    "print('Train size: ', train.shape)\n",
    "print('Val size: ', val.shape)"
   ]
  },
  {
   "cell_type": "markdown",
   "metadata": {
    "id": "ViKYfQF15p79"
   },
   "source": [
    "## Evaluation Metrics"
   ]
  },
  {
   "cell_type": "markdown",
   "metadata": {
    "id": "O4mf3NvR5p79"
   },
   "source": [
    "### Confusion Matrix"
   ]
  },
  {
   "cell_type": "code",
   "execution_count": 9,
   "metadata": {
    "executionInfo": {
     "elapsed": 357,
     "status": "ok",
     "timestamp": 1618774321984,
     "user": {
      "displayName": "Faiz Zaman",
      "photoUrl": "https://lh3.googleusercontent.com/a-/AOh14GiPZ2wigvvlNsGJdPqeQIQVxr-MyUl09zALC2dCQg=s64",
      "userId": "11900101326516043479"
     },
     "user_tz": -60
    },
    "id": "3RAv9vHp5p7-"
   },
   "outputs": [],
   "source": [
    "# Create the confusion matrix\n",
    "def plot_confusion_matrix(y_test, y_pred):\n",
    "    ''' Plot the confusion matrix for the target labels and predictions '''\n",
    "    cm = confusion_matrix(y_test, y_pred)\n",
    "\n",
    "    # Create a dataframe with the confusion matrix values\n",
    "    df_cm = pd.DataFrame(cm, range(cm.shape[0]),\n",
    "                  range(cm.shape[1]))\n",
    "\n",
    "    # Plot the confusion matrix\n",
    "    sn.set(font_scale=1.4) #for label size\n",
    "    sn.heatmap(df_cm, annot=True,fmt='.0f',cmap=\"YlGnBu\",annot_kws={\"size\": 10})# font size\n",
    "    plt.show()"
   ]
  },
  {
   "cell_type": "markdown",
   "metadata": {
    "id": "Cg7Dscq55p7-"
   },
   "source": [
    "### ROC Curve"
   ]
  },
  {
   "cell_type": "code",
   "execution_count": 10,
   "metadata": {
    "executionInfo": {
     "elapsed": 881,
     "status": "ok",
     "timestamp": 1618774325164,
     "user": {
      "displayName": "Faiz Zaman",
      "photoUrl": "https://lh3.googleusercontent.com/a-/AOh14GiPZ2wigvvlNsGJdPqeQIQVxr-MyUl09zALC2dCQg=s64",
      "userId": "11900101326516043479"
     },
     "user_tz": -60
    },
    "id": "dl4aVPCa5p7-"
   },
   "outputs": [],
   "source": [
    "# ROC Curve\n",
    "# plot no skill\n",
    "# Calculate the points in the ROC curve\n",
    "def plot_roc_curve(y_test, y_pred):\n",
    "    ''' Plot the ROC curve for the target labels and predictions'''\n",
    "    fpr, tpr, thresholds = roc_curve(y_test, y_pred, pos_label=1)\n",
    "    roc_auc= auc(fpr,tpr)\n",
    "    plt.figure(figsize=(12, 12))\n",
    "    ax = plt.subplot(121)\n",
    "    ax.set_aspect(1)\n",
    "    \n",
    "    plt.title('Receiver Operating Characteristic')\n",
    "    plt.plot(fpr, tpr, 'b', label = 'AUC = %0.2f' % roc_auc)\n",
    "    plt.legend(loc = 'lower right')\n",
    "    plt.plot([0, 1], [0, 1],'r--')\n",
    "    plt.xlim([0, 1])\n",
    "    plt.ylim([0, 1])\n",
    "    plt.ylabel('True Positive Rate')\n",
    "    plt.xlabel('False Positive Rate')\n",
    "    plt.show()"
   ]
  },
  {
   "cell_type": "markdown",
   "metadata": {
    "id": "npeUdt9EaxMv"
   },
   "source": [
    "### Display the Confusion Matrix and ROC Curve results"
   ]
  },
  {
   "cell_type": "code",
   "execution_count": 11,
   "metadata": {
    "executionInfo": {
     "elapsed": 1141,
     "status": "ok",
     "timestamp": 1618774329179,
     "user": {
      "displayName": "Faiz Zaman",
      "photoUrl": "https://lh3.googleusercontent.com/a-/AOh14GiPZ2wigvvlNsGJdPqeQIQVxr-MyUl09zALC2dCQg=s64",
      "userId": "11900101326516043479"
     },
     "user_tz": -60
    },
    "id": "2po1tVRK5p8A"
   },
   "outputs": [],
   "source": [
    "def display_results(model, val, y_val):\n",
    "\n",
    "    y_pred = model.predict(val)\n",
    "\n",
    "    print(metrics.classification_report(y_val, y_pred))\n",
    "    plot_confusion_matrix(y_val, y_pred)\n",
    "\n",
    "    # convert to 0s and 1s for plotting ROC curve\n",
    "    roc_y_val = [np.int64(1) if i == 'related' else np.int64(0) for i in y_val]\n",
    "    roc_y_pred = [np.int64(1) if i == 'related' else np.int64(0) for i in y_pred]\n",
    "\n",
    "    plot_roc_curve(roc_y_val, roc_y_pred)"
   ]
  },
  {
   "cell_type": "markdown",
   "metadata": {
    "id": "VD3JL9Du5p7_"
   },
   "source": [
    "## Training Models"
   ]
  },
  {
   "cell_type": "markdown",
   "metadata": {
    "id": "jUg4YI7W5p8A"
   },
   "source": [
    "### Support Vector Machine Classifier"
   ]
  },
  {
   "cell_type": "code",
   "execution_count": 12,
   "metadata": {
    "executionInfo": {
     "elapsed": 443,
     "status": "ok",
     "timestamp": 1618774333434,
     "user": {
      "displayName": "Faiz Zaman",
      "photoUrl": "https://lh3.googleusercontent.com/a-/AOh14GiPZ2wigvvlNsGJdPqeQIQVxr-MyUl09zALC2dCQg=s64",
      "userId": "11900101326516043479"
     },
     "user_tz": -60
    },
    "id": "1g6JMpum5p8A"
   },
   "outputs": [],
   "source": [
    "def train_SVM(train, y_train, extractor):\n",
    "\n",
    "    start = time.time()\n",
    "    parameters = {\n",
    "        'C': [1, 10],\n",
    "        'gamma': [1, 'auto', 'scale']\n",
    "    }\n",
    "    # Tune hyperparameters  using Grid Search and a SVM model\n",
    "    model = GridSearchCV(SVC(kernel='rbf'), parameters, cv=5, n_jobs=-1).fit(train, y_train)\n",
    "    dump(model, extractor + '_SVM.joblib')\n",
    "\n",
    "    end = time.time()\n",
    "    print(\"Training took\", end - start, \"seconds\")\n",
    "\n",
    "    return model"
   ]
  },
  {
   "cell_type": "markdown",
   "metadata": {},
   "source": [
    "### Train SVM using TF-IDF Features and display results"
   ]
  },
  {
   "cell_type": "code",
   "execution_count": 13,
   "metadata": {
    "colab": {
     "base_uri": "https://localhost:8080/",
     "height": 303
    },
    "executionInfo": {
     "elapsed": 5531619,
     "status": "error",
     "timestamp": 1618785631898,
     "user": {
      "displayName": "Faiz Zaman",
      "photoUrl": "https://lh3.googleusercontent.com/a-/AOh14GiPZ2wigvvlNsGJdPqeQIQVxr-MyUl09zALC2dCQg=s64",
      "userId": "11900101326516043479"
     },
     "user_tz": -60
    },
    "id": "JZWEAF7WbUob",
    "outputId": "a4568cac-9359-4fa9-ca8d-e7dde3a6c93f"
   },
   "outputs": [
    {
     "name": "stdout",
     "output_type": "stream",
     "text": [
      "Training took 6708.22327542305 seconds\n"
     ]
    }
   ],
   "source": [
    "model = train_SVM(train, y_train, \"tfidf\")"
   ]
  },
  {
   "cell_type": "code",
   "execution_count": 14,
   "metadata": {
    "colab": {
     "base_uri": "https://localhost:8080/",
     "height": 162
    },
    "executionInfo": {
     "elapsed": 1205,
     "status": "error",
     "timestamp": 1618773417259,
     "user": {
      "displayName": "Faiz Zaman",
      "photoUrl": "https://lh3.googleusercontent.com/a-/AOh14GiPZ2wigvvlNsGJdPqeQIQVxr-MyUl09zALC2dCQg=s64",
      "userId": "11900101326516043479"
     },
     "user_tz": -60
    },
    "id": "MgpHZf4tbC4e",
    "outputId": "53522a91-17a6-4b8f-ad0d-0be934d348fc"
   },
   "outputs": [
    {
     "name": "stdout",
     "output_type": "stream",
     "text": [
      "              precision    recall  f1-score   support\n",
      "\n",
      "     related       0.90      0.87      0.89      2767\n",
      "   unrelated       0.95      0.96      0.96      7228\n",
      "\n",
      "    accuracy                           0.94      9995\n",
      "   macro avg       0.93      0.92      0.92      9995\n",
      "weighted avg       0.94      0.94      0.94      9995\n",
      "\n"
     ]
    },
    {
     "data": {
      "image/png": "[encoded data removed]",
      "text/plain": [
       "<Figure size 432x288 with 2 Axes>"
      ]
     },
     "metadata": {},
     "output_type": "display_data"
    },
    {
     "data": {
      "image/png": "[encoded data removed]",
      "text/plain": [
       "<Figure size 864x864 with 1 Axes>"
      ]
     },
     "metadata": {},
     "output_type": "display_data"
    }
   ],
   "source": [
    "display_results(model, val, y_val)"
   ]
  },
  {
   "cell_type": "markdown",
   "metadata": {
    "id": "XCMtUqOTH4I5"
   },
   "source": [
    "# Tokenisation with BERT"
   ]
  },
  {
   "cell_type": "markdown",
   "metadata": {
    "id": "dTpk0ju8IkcC"
   },
   "source": [
    "### Load the model and tokeniser"
   ]
  },
  {
   "cell_type": "code",
   "execution_count": 17,
   "metadata": {
    "executionInfo": {
     "elapsed": 11267,
     "status": "ok",
     "timestamp": 1618738915439,
     "user": {
      "displayName": "Faiz Zaman",
      "photoUrl": "https://lh3.googleusercontent.com/a-/AOh14GiPZ2wigvvlNsGJdPqeQIQVxr-MyUl09zALC2dCQg=s64",
      "userId": "11900101326516043479"
     },
     "user_tz": -60
    },
    "id": "m86F3IUUGl7y"
   },
   "outputs": [],
   "source": [
    "model_class, tokenizer_class, pretrained_weights = (transformers.DistilBertModel,\n",
    "                                                    transformers.DistilBertTokenizer,\n",
    "                                                    'distilbert-base-uncased')\n",
    "tokenizer = tokenizer_class.from_pretrained(pretrained_weights)\n",
    "model = model_class.from_pretrained(pretrained_weights)"
   ]
  },
  {
   "cell_type": "markdown",
   "metadata": {
    "id": "TM1jz_EwmazE"
   },
   "source": [
    "### Embedding Retrieval"
   ]
  },
  {
   "cell_type": "code",
   "execution_count": 22,
   "metadata": {
    "id": "4GcsUmXglxBz"
   },
   "outputs": [],
   "source": [
    "def get_embeddings(data):\n",
    "\n",
    "    tokenized = tokenizer(list(data['Headline'][:250]), list(data['articleBody'][:250]),\\\n",
    "                      padding='max_length', truncation=True, return_tensors=\"pt\")\n",
    "    \n",
    "    tokenized_text = tokenized['input_ids']\n",
    "\n",
    "    with torch.no_grad():\n",
    "        embeddings = model(tokenized_text)\n",
    "\n",
    "    get_cls = lambda x: x[0][:, 0, :].squeeze()\n",
    "    cls_embeddings = get_cls(embeddings)\n",
    "\n",
    "    return cls_embeddings"
   ]
  },
  {
   "cell_type": "code",
   "execution_count": 23,
   "metadata": {
    "id": "FRoVWk2qmLhj"
   },
   "outputs": [],
   "source": [
    "train = get_embeddings(X_train)\n",
    "val = get_embeddings(X_val)"
   ]
  },
  {
   "cell_type": "markdown",
   "metadata": {},
   "source": [
    "### Train SVM using BERT Embeddings and display results"
   ]
  },
  {
   "cell_type": "code",
   "execution_count": 25,
   "metadata": {
    "id": "-G_feG2q5p8B"
   },
   "outputs": [
    {
     "name": "stdout",
     "output_type": "stream",
     "text": [
      "Training took 33.83731555938721 seconds\n"
     ]
    }
   ],
   "source": [
    "model = train_SVM(train[:250], y_train[:250], 'bert')"
   ]
  },
  {
   "cell_type": "code",
   "execution_count": 26,
   "metadata": {
    "id": "5dRwmsosiE7b"
   },
   "outputs": [
    {
     "name": "stdout",
     "output_type": "stream",
     "text": [
      "              precision    recall  f1-score   support\n",
      "\n",
      "     related       0.57      0.06      0.11        64\n",
      "   unrelated       0.75      0.98      0.85       186\n",
      "\n",
      "    accuracy                           0.75       250\n",
      "   macro avg       0.66      0.52      0.48       250\n",
      "weighted avg       0.71      0.75      0.66       250\n",
      "\n"
     ]
    },
    {
     "data": {
      "image/png": "[encoded data removed]",
      "text/plain": [
       "<Figure size 432x288 with 2 Axes>"
      ]
     },
     "metadata": {},
     "output_type": "display_data"
    },
    {
     "data": {
      "image/png": "[encoded data removed]",
      "text/plain": [
       "<Figure size 864x864 with 1 Axes>"
      ]
     },
     "metadata": {},
     "output_type": "display_data"
    }
   ],
   "source": [
    "display_results(model, val[:250], y_val[:250])"
   ]
  },
  {
   "cell_type": "code",
   "execution_count": null,
   "metadata": {},
   "outputs": [],
   "source": []
  }
 ],
 "metadata": {
  "accelerator": "GPU",
  "colab": {
   "collapsed_sections": [],
   "name": "Fake_News_Challenge_Classifier.ipynb",
   "provenance": []
  },
  "kernelspec": {
   "display_name": "Python 3",
   "language": "python",
   "name": "python3"
  },
  "language_info": {
   "codemirror_mode": {
    "name": "ipython",
    "version": 3
   },
   "file_extension": ".py",
   "mimetype": "text/x-python",
   "name": "python",
   "nbconvert_exporter": "python",
   "pygments_lexer": "ipython3",
   "version": "3.7.6"
  }
 },
 "nbformat": 4,
 "nbformat_minor": 1
}
