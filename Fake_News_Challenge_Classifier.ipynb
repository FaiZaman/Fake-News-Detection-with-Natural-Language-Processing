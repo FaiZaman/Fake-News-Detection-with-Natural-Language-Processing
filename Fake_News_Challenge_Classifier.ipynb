{
 "cells": [
  {
   "cell_type": "markdown",
   "metadata": {},
   "source": [
    "# Natural Language Processing for the Fake News Challenge"
   ]
  },
  {
   "cell_type": "markdown",
   "metadata": {},
   "source": [
    "## Main Imports"
   ]
  },
  {
   "cell_type": "code",
   "execution_count": 46,
   "metadata": {},
   "outputs": [],
   "source": [
    "import pandas as pd\n",
    "import numpy as np\n",
    "import seaborn as sn\n",
    "import matplotlib.pyplot as plt\n",
    "\n",
    "from sklearn.base import TransformerMixin\n",
    "from sklearn.model_selection import train_test_split\n",
    "from sklearn.naive_bayes import MultinomialNB\n",
    "from sklearn.pipeline import FeatureUnion, make_pipeline, make_union\n",
    "from sklearn.feature_extraction.text import TfidfVectorizer, CountVectorizer\n",
    "\n",
    "from sklearn import metrics\n",
    "from sklearn.metrics import confusion_matrix,accuracy_score,roc_auc_score,roc_curve,auc,f1_score\n",
    "\n",
    "from sklearn.svm import SVC\n",
    "from sklearn.model_selection import GridSearchCV"
   ]
  },
  {
   "cell_type": "markdown",
   "metadata": {},
   "source": [
    "## Set up the data for preprocessing\n",
    "### Load and sample the data"
   ]
  },
  {
   "cell_type": "code",
   "execution_count": 24,
   "metadata": {},
   "outputs": [],
   "source": [
    "data_folder_name = 'data'\n",
    "train_body_filename = 'train_bodies.csv'\n",
    "train_stance_filename = 'train_stances.csv'\n",
    "\n",
    "train_body_path = data_folder_name +'/'+ train_body_filename \n",
    "train_stance_path = data_folder_name + '/' + train_stance_filename\n",
    "\n",
    "body_data = pd.read_csv(train_body_path)\n",
    "stance_data = pd.read_csv(train_stance_path)"
   ]
  },
  {
   "cell_type": "code",
   "execution_count": 25,
   "metadata": {},
   "outputs": [
    {
     "data": {
      "text/html": [
       "<div>\n",
       "<style scoped>\n",
       "    .dataframe tbody tr th:only-of-type {\n",
       "        vertical-align: middle;\n",
       "    }\n",
       "\n",
       "    .dataframe tbody tr th {\n",
       "        vertical-align: top;\n",
       "    }\n",
       "\n",
       "    .dataframe thead th {\n",
       "        text-align: right;\n",
       "    }\n",
       "</style>\n",
       "<table border=\"1\" class=\"dataframe\">\n",
       "  <thead>\n",
       "    <tr style=\"text-align: right;\">\n",
       "      <th></th>\n",
       "      <th>Body ID</th>\n",
       "      <th>articleBody</th>\n",
       "    </tr>\n",
       "  </thead>\n",
       "  <tbody>\n",
       "    <tr>\n",
       "      <th>330</th>\n",
       "      <td>512</td>\n",
       "      <td>Fans of \"Star Wars\" may not have to wait until...</td>\n",
       "    </tr>\n",
       "    <tr>\n",
       "      <th>734</th>\n",
       "      <td>1101</td>\n",
       "      <td>In a set of artist renditions, 9to5Mac offers ...</td>\n",
       "    </tr>\n",
       "    <tr>\n",
       "      <th>943</th>\n",
       "      <td>1412</td>\n",
       "      <td>A cloistered nun has stunned her mother superi...</td>\n",
       "    </tr>\n",
       "    <tr>\n",
       "      <th>657</th>\n",
       "      <td>993</td>\n",
       "      <td>Sugarhill Gang founder Henry 'Big Bank Hank' J...</td>\n",
       "    </tr>\n",
       "    <tr>\n",
       "      <th>44</th>\n",
       "      <td>65</td>\n",
       "      <td>McDonald’s Removing Big Mac, Apple Pies And El...</td>\n",
       "    </tr>\n",
       "    <tr>\n",
       "      <th>317</th>\n",
       "      <td>497</td>\n",
       "      <td>A schoolboy who was almost killed when he was ...</td>\n",
       "    </tr>\n",
       "    <tr>\n",
       "      <th>1495</th>\n",
       "      <td>2249</td>\n",
       "      <td>The Department of Homeland Security is denying...</td>\n",
       "    </tr>\n",
       "    <tr>\n",
       "      <th>1166</th>\n",
       "      <td>1761</td>\n",
       "      <td>The Nigerian military says it has reached a ce...</td>\n",
       "    </tr>\n",
       "    <tr>\n",
       "      <th>1592</th>\n",
       "      <td>2398</td>\n",
       "      <td>His voice served as a call to action, an echo ...</td>\n",
       "    </tr>\n",
       "    <tr>\n",
       "      <th>1477</th>\n",
       "      <td>2221</td>\n",
       "      <td>MIAMI — The bulletin now falls squarely in the...</td>\n",
       "    </tr>\n",
       "  </tbody>\n",
       "</table>\n",
       "</div>"
      ],
      "text/plain": [
       "      Body ID                                        articleBody\n",
       "330       512  Fans of \"Star Wars\" may not have to wait until...\n",
       "734      1101  In a set of artist renditions, 9to5Mac offers ...\n",
       "943      1412  A cloistered nun has stunned her mother superi...\n",
       "657       993  Sugarhill Gang founder Henry 'Big Bank Hank' J...\n",
       "44         65  McDonald’s Removing Big Mac, Apple Pies And El...\n",
       "317       497  A schoolboy who was almost killed when he was ...\n",
       "1495     2249  The Department of Homeland Security is denying...\n",
       "1166     1761  The Nigerian military says it has reached a ce...\n",
       "1592     2398  His voice served as a call to action, an echo ...\n",
       "1477     2221  MIAMI — The bulletin now falls squarely in the..."
      ]
     },
     "execution_count": 25,
     "metadata": {},
     "output_type": "execute_result"
    }
   ],
   "source": [
    "body_data.sample(10)"
   ]
  },
  {
   "cell_type": "markdown",
   "metadata": {},
   "source": [
    "### Merge the data based on the Body ID to get one dataframe containing the corresponding Headlines and Article Bodies"
   ]
  },
  {
   "cell_type": "code",
   "execution_count": 48,
   "metadata": {},
   "outputs": [
    {
     "data": {
      "text/html": [
       "<div>\n",
       "<style scoped>\n",
       "    .dataframe tbody tr th:only-of-type {\n",
       "        vertical-align: middle;\n",
       "    }\n",
       "\n",
       "    .dataframe tbody tr th {\n",
       "        vertical-align: top;\n",
       "    }\n",
       "\n",
       "    .dataframe thead th {\n",
       "        text-align: right;\n",
       "    }\n",
       "</style>\n",
       "<table border=\"1\" class=\"dataframe\">\n",
       "  <thead>\n",
       "    <tr style=\"text-align: right;\">\n",
       "      <th></th>\n",
       "      <th>Body ID</th>\n",
       "      <th>articleBody</th>\n",
       "      <th>Headline</th>\n",
       "      <th>Stance</th>\n",
       "    </tr>\n",
       "  </thead>\n",
       "  <tbody>\n",
       "    <tr>\n",
       "      <th>36744</th>\n",
       "      <td>1950</td>\n",
       "      <td>Mounted with a cannon and leaving a trail of s...</td>\n",
       "      <td>Texas City plumber's truck ends up in Syrian war</td>\n",
       "      <td>agree</td>\n",
       "    </tr>\n",
       "    <tr>\n",
       "      <th>1307</th>\n",
       "      <td>60</td>\n",
       "      <td>The White House is attempting to verify footag...</td>\n",
       "      <td>Taylor Lianne Chandler: Everything you need to...</td>\n",
       "      <td>unrelated</td>\n",
       "    </tr>\n",
       "    <tr>\n",
       "      <th>25039</th>\n",
       "      <td>1423</td>\n",
       "      <td>WASHINGTON -- The Pentagon says U.S. officials...</td>\n",
       "      <td>ISIL Beheads American Photojournalist in Iraq</td>\n",
       "      <td>unrelated</td>\n",
       "    </tr>\n",
       "    <tr>\n",
       "      <th>23563</th>\n",
       "      <td>1357</td>\n",
       "      <td>There's an illustration being shared on Facebo...</td>\n",
       "      <td>Audio recording allegedly captures at least 10...</td>\n",
       "      <td>unrelated</td>\n",
       "    </tr>\n",
       "    <tr>\n",
       "      <th>6795</th>\n",
       "      <td>403</td>\n",
       "      <td>WORLDWIDE - NASA has confirmed that the Earth ...</td>\n",
       "      <td>#HairGate: iPhone 6 Customers Are Complaining ...</td>\n",
       "      <td>unrelated</td>\n",
       "    </tr>\n",
       "    <tr>\n",
       "      <th>24307</th>\n",
       "      <td>1383</td>\n",
       "      <td>The former PricewaterhouseCoopers employee who...</td>\n",
       "      <td>Unhappy Customer: Comcast Told My Employer Abo...</td>\n",
       "      <td>discuss</td>\n",
       "    </tr>\n",
       "    <tr>\n",
       "      <th>30319</th>\n",
       "      <td>1689</td>\n",
       "      <td>Islamic State fighters are no match for Ebola....</td>\n",
       "      <td>Bunbury local discovered a spider had burrowed...</td>\n",
       "      <td>unrelated</td>\n",
       "    </tr>\n",
       "    <tr>\n",
       "      <th>16901</th>\n",
       "      <td>1006</td>\n",
       "      <td>Google Inc. (GOOGL:US) bought six office build...</td>\n",
       "      <td>Google Said to Buy Redwood City Offices for $5...</td>\n",
       "      <td>discuss</td>\n",
       "    </tr>\n",
       "    <tr>\n",
       "      <th>35421</th>\n",
       "      <td>1906</td>\n",
       "      <td>LONDON -- A pickup truck once owned by a plumb...</td>\n",
       "      <td>Kidnapped Nigerian schoolgirls: Government cla...</td>\n",
       "      <td>unrelated</td>\n",
       "    </tr>\n",
       "    <tr>\n",
       "      <th>25232</th>\n",
       "      <td>1434</td>\n",
       "      <td>Hell hath no fury like a woman scorned. The sa...</td>\n",
       "      <td>GRAPHIC CONTENT: Girl sneers at man's tiny pen...</td>\n",
       "      <td>discuss</td>\n",
       "    </tr>\n",
       "  </tbody>\n",
       "</table>\n",
       "</div>"
      ],
      "text/plain": [
       "       Body ID                                        articleBody  \\\n",
       "36744     1950  Mounted with a cannon and leaving a trail of s...   \n",
       "1307        60  The White House is attempting to verify footag...   \n",
       "25039     1423  WASHINGTON -- The Pentagon says U.S. officials...   \n",
       "23563     1357  There's an illustration being shared on Facebo...   \n",
       "6795       403  WORLDWIDE - NASA has confirmed that the Earth ...   \n",
       "24307     1383  The former PricewaterhouseCoopers employee who...   \n",
       "30319     1689  Islamic State fighters are no match for Ebola....   \n",
       "16901     1006  Google Inc. (GOOGL:US) bought six office build...   \n",
       "35421     1906  LONDON -- A pickup truck once owned by a plumb...   \n",
       "25232     1434  Hell hath no fury like a woman scorned. The sa...   \n",
       "\n",
       "                                                Headline     Stance  \n",
       "36744   Texas City plumber's truck ends up in Syrian war      agree  \n",
       "1307   Taylor Lianne Chandler: Everything you need to...  unrelated  \n",
       "25039      ISIL Beheads American Photojournalist in Iraq  unrelated  \n",
       "23563  Audio recording allegedly captures at least 10...  unrelated  \n",
       "6795   #HairGate: iPhone 6 Customers Are Complaining ...  unrelated  \n",
       "24307  Unhappy Customer: Comcast Told My Employer Abo...    discuss  \n",
       "30319  Bunbury local discovered a spider had burrowed...  unrelated  \n",
       "16901  Google Said to Buy Redwood City Offices for $5...    discuss  \n",
       "35421  Kidnapped Nigerian schoolgirls: Government cla...  unrelated  \n",
       "25232  GRAPHIC CONTENT: Girl sneers at man's tiny pen...    discuss  "
      ]
     },
     "execution_count": 48,
     "metadata": {},
     "output_type": "execute_result"
    }
   ],
   "source": [
    "total_data = pd.merge(body_data, stance_data, on='Body ID')\n",
    "\n",
    "remove_n = 40000\n",
    "drop_indices = np.random.choice(total_data.index, remove_n, replace=False)\n",
    "total_data = total_data.drop(drop_indices)\n",
    "\n",
    "total_data.sample(10)"
   ]
  },
  {
   "cell_type": "markdown",
   "metadata": {},
   "source": [
    "### Splitting the dataset into train and validation sets"
   ]
  },
  {
   "cell_type": "code",
   "execution_count": 49,
   "metadata": {},
   "outputs": [
    {
     "name": "stdout",
     "output_type": "stream",
     "text": [
      "Size of training set: (7977, 2)\n",
      "Size of validation set: (1995, 2)\n"
     ]
    },
    {
     "data": {
      "text/html": [
       "<div>\n",
       "<style scoped>\n",
       "    .dataframe tbody tr th:only-of-type {\n",
       "        vertical-align: middle;\n",
       "    }\n",
       "\n",
       "    .dataframe tbody tr th {\n",
       "        vertical-align: top;\n",
       "    }\n",
       "\n",
       "    .dataframe thead th {\n",
       "        text-align: right;\n",
       "    }\n",
       "</style>\n",
       "<table border=\"1\" class=\"dataframe\">\n",
       "  <thead>\n",
       "    <tr style=\"text-align: right;\">\n",
       "      <th></th>\n",
       "      <th>Headline</th>\n",
       "      <th>articleBody</th>\n",
       "    </tr>\n",
       "  </thead>\n",
       "  <tbody>\n",
       "    <tr>\n",
       "      <th>24210</th>\n",
       "      <td>ISIS Border Crisis: DHS Chief Says Terrorists ...</td>\n",
       "      <td>The Department of Homeland Security definitive...</td>\n",
       "    </tr>\n",
       "    <tr>\n",
       "      <th>28281</th>\n",
       "      <td>Journalist James Wright Foley reportedly behea...</td>\n",
       "      <td>In a video posted online Tuesday, ISIS beheads...</td>\n",
       "    </tr>\n",
       "    <tr>\n",
       "      <th>41455</th>\n",
       "      <td>'See you Monday': N.L. man keeps Facebook prom...</td>\n",
       "      <td>He may have been a few hours late, but a Newfo...</td>\n",
       "    </tr>\n",
       "    <tr>\n",
       "      <th>10392</th>\n",
       "      <td>Al Qaida hostage killed in raid</td>\n",
       "      <td>A man in his mid-to-late 50s is reportedly sla...</td>\n",
       "    </tr>\n",
       "    <tr>\n",
       "      <th>47396</th>\n",
       "      <td>Cheese blamed for North Korean leader Kim Jong...</td>\n",
       "      <td>So it wasn’t just “discomfort” that’s been tro...</td>\n",
       "    </tr>\n",
       "    <tr>\n",
       "      <th>25289</th>\n",
       "      <td>Was Alleged Audio of Michael Brown Shooting on...</td>\n",
       "      <td>Apple may be planning to hold a special event ...</td>\n",
       "    </tr>\n",
       "    <tr>\n",
       "      <th>38018</th>\n",
       "      <td>Has Ebola infected Isis militants in Mosul?</td>\n",
       "      <td>With the threat of an ISIS terror attack becom...</td>\n",
       "    </tr>\n",
       "    <tr>\n",
       "      <th>33158</th>\n",
       "      <td>Tourist dubbed ‘Spider Man’ after spider burro...</td>\n",
       "      <td>One passenger at Dulles International Airport ...</td>\n",
       "    </tr>\n",
       "    <tr>\n",
       "      <th>9999</th>\n",
       "      <td>Attorney: New audio reveals pause in gunfire w...</td>\n",
       "      <td>\"Eh-oh!\" A 19-year-old student is claiming tha...</td>\n",
       "    </tr>\n",
       "    <tr>\n",
       "      <th>3890</th>\n",
       "      <td>Two GOP Congressmen Say Suspected Terrorists C...</td>\n",
       "      <td>FORT DEVENS, Massachusetts -\\n\\nInfamous Bosto...</td>\n",
       "    </tr>\n",
       "  </tbody>\n",
       "</table>\n",
       "</div>"
      ],
      "text/plain": [
       "                                                Headline  \\\n",
       "24210  ISIS Border Crisis: DHS Chief Says Terrorists ...   \n",
       "28281  Journalist James Wright Foley reportedly behea...   \n",
       "41455  'See you Monday': N.L. man keeps Facebook prom...   \n",
       "10392                    Al Qaida hostage killed in raid   \n",
       "47396  Cheese blamed for North Korean leader Kim Jong...   \n",
       "25289  Was Alleged Audio of Michael Brown Shooting on...   \n",
       "38018        Has Ebola infected Isis militants in Mosul?   \n",
       "33158  Tourist dubbed ‘Spider Man’ after spider burro...   \n",
       "9999   Attorney: New audio reveals pause in gunfire w...   \n",
       "3890   Two GOP Congressmen Say Suspected Terrorists C...   \n",
       "\n",
       "                                             articleBody  \n",
       "24210  The Department of Homeland Security definitive...  \n",
       "28281  In a video posted online Tuesday, ISIS beheads...  \n",
       "41455  He may have been a few hours late, but a Newfo...  \n",
       "10392  A man in his mid-to-late 50s is reportedly sla...  \n",
       "47396  So it wasn’t just “discomfort” that’s been tro...  \n",
       "25289  Apple may be planning to hold a special event ...  \n",
       "38018  With the threat of an ISIS terror attack becom...  \n",
       "33158  One passenger at Dulles International Airport ...  \n",
       "9999   \"Eh-oh!\" A 19-year-old student is claiming tha...  \n",
       "3890   FORT DEVENS, Massachusetts -\\n\\nInfamous Bosto...  "
      ]
     },
     "execution_count": 49,
     "metadata": {},
     "output_type": "execute_result"
    }
   ],
   "source": [
    "input_columns = total_data[['Headline', 'articleBody']]\n",
    "target = 'Stance'\n",
    "X_train, X_val, y_train, y_val = train_test_split(input_columns, total_data[target].values , test_size=0.20, random_state=0)\n",
    "\n",
    "# check the size of our datasets\n",
    "print('Size of training set:', X_train.shape)\n",
    "print('Size of validation set:', X_val.shape)\n",
    "\n",
    "X_train.sample(10)"
   ]
  },
  {
   "cell_type": "markdown",
   "metadata": {},
   "source": [
    "## TF-IDF Feature Extraction\n",
    "### Custom Transformer for Pipeline"
   ]
  },
  {
   "cell_type": "code",
   "execution_count": 50,
   "metadata": {},
   "outputs": [],
   "source": [
    "# custom transformer for column extraction\n",
    "class ColumnExtractor(TransformerMixin):\n",
    "\n",
    "    def __init__(self, column):\n",
    "        self.column = column\n",
    "\n",
    "    def fit(self, X, y=None):\n",
    "        return self\n",
    "\n",
    "    def transform(self, X, y=None):\n",
    "        return X[self.column]"
   ]
  },
  {
   "cell_type": "markdown",
   "metadata": {},
   "source": [
    "### Pipelines and Feature Union of Headline and Article Body\n",
    "- Apply fit transform"
   ]
  },
  {
   "cell_type": "code",
   "execution_count": 51,
   "metadata": {},
   "outputs": [
    {
     "name": "stdout",
     "output_type": "stream",
     "text": [
      "Train size:  (7977, 22879)\n"
     ]
    }
   ],
   "source": [
    "# feature extraction with TF-IDF\n",
    "\n",
    "# create pipes and perform TF-IDF on Headline and Body columns\n",
    "headline_pipe = make_pipeline(\n",
    "    ColumnExtractor('Headline'),\n",
    "    TfidfVectorizer(decode_error='ignore', min_df=2, max_df=0.5, lowercase=True)\n",
    ")\n",
    "\n",
    "body_pipe = make_pipeline(\n",
    "    ColumnExtractor('articleBody'),\n",
    "    TfidfVectorizer(decode_error='ignore', min_df=2, max_df=0.5, lowercase=True)\n",
    ")\n",
    "\n",
    "# combine headline and body transformers with a feature union and weight equally\n",
    "preprocessor = FeatureUnion(transformer_list=[('headline', headline_pipe),\n",
    "                                              ('body', body_pipe)],\n",
    "                            transformer_weights= {\n",
    "                                    'headline': 0.5,\n",
    "                                    'body': 0.5\n",
    "                               }\n",
    "                           )\n",
    "\n",
    "# fit transform and print data\n",
    "train = preprocessor.fit_transform(X_train)\n",
    "val = preprocessor.transform(X_val)\n",
    "print('Train size: ', train.shape)\n",
    "print('Val size: ', val.shape)"
   ]
  },
  {
   "cell_type": "markdown",
   "metadata": {},
   "source": [
    "## Evaluation Metrics"
   ]
  },
  {
   "cell_type": "markdown",
   "metadata": {},
   "source": [
    "### Confusion Matrix"
   ]
  },
  {
   "cell_type": "code",
   "execution_count": 54,
   "metadata": {},
   "outputs": [],
   "source": [
    "# Create the confussion matrix\n",
    "def plot_confussion_matrix(y_test, y_pred):\n",
    "    ''' Plot the confussion matrix for the target labels and predictions '''\n",
    "    cm = confusion_matrix(y_test, y_pred)\n",
    "\n",
    "    # Create a dataframe with the confussion matrix values\n",
    "    df_cm = pd.DataFrame(cm, range(cm.shape[0]),\n",
    "                  range(cm.shape[1]))\n",
    "\n",
    "    # Plot the confussion matrix\n",
    "    sn.set(font_scale=1.4) #for label size\n",
    "    sn.heatmap(df_cm, annot=True,fmt='.0f',cmap=\"YlGnBu\",annot_kws={\"size\": 10})# font size\n",
    "    plt.show()"
   ]
  },
  {
   "cell_type": "markdown",
   "metadata": {},
   "source": [
    "### ROC Curve"
   ]
  },
  {
   "cell_type": "code",
   "execution_count": null,
   "metadata": {},
   "outputs": [],
   "source": [
    "# ROC Curve\n",
    "# plot no skill\n",
    "# Calculate the points in the ROC curve\n",
    "def plot_roc_curve(y_test, y_pred):\n",
    "    ''' Plot the ROC curve for the target labels and predictions'''\n",
    "    fpr, tpr, thresholds = roc_curve(y_test, y_pred, pos_label=1)\n",
    "    roc_auc= auc(fpr,tpr)\n",
    "    plt.figure(figsize=(12, 12))\n",
    "    ax = plt.subplot(121)\n",
    "    ax.set_aspect(1)\n",
    "    \n",
    "    plt.title('Receiver Operating Characteristic')\n",
    "    plt.plot(fpr, tpr, 'b', label = 'AUC = %0.2f' % roc_auc)\n",
    "    plt.legend(loc = 'lower right')\n",
    "    plt.plot([0, 1], [0, 1],'r--')\n",
    "    plt.xlim([0, 1])\n",
    "    plt.ylim([0, 1])\n",
    "    plt.ylabel('True Positive Rate')\n",
    "    plt.xlabel('False Positive Rate')\n",
    "    plt.show()"
   ]
  },
  {
   "cell_type": "markdown",
   "metadata": {},
   "source": [
    "## Training Models"
   ]
  },
  {
   "cell_type": "markdown",
   "metadata": {},
   "source": [
    "### Naive Bayes"
   ]
  },
  {
   "cell_type": "code",
   "execution_count": 53,
   "metadata": {},
   "outputs": [
    {
     "name": "stdout",
     "output_type": "stream",
     "text": [
      "train score: 0.7304751159583803\n",
      "validation score: 0.7388471177944862\n"
     ]
    }
   ],
   "source": [
    "# create the model, train it on the train dataset and print the scores\n",
    "model = MultinomialNB() # as implemented in sklearn\n",
    "model.fit(train, y_train)\n",
    "print(\"train score:\", model.score(train, y_train))\n",
    "print(\"validation score:\", model.score(val, y_val))"
   ]
  },
  {
   "cell_type": "markdown",
   "metadata": {},
   "source": [
    "### Support Vector Machine Classifier"
   ]
  },
  {
   "cell_type": "code",
   "execution_count": 56,
   "metadata": {},
   "outputs": [
    {
     "data": {
      "text/plain": [
       "SVC(C=1.0, break_ties=False, cache_size=200, class_weight=None, coef0=0.0,\n",
       "    decision_function_shape='ovr', degree=3, gamma='scale', kernel='rbf',\n",
       "    max_iter=-1, probability=False, random_state=None, shrinking=True,\n",
       "    tol=0.001, verbose=False)"
      ]
     },
     "execution_count": 56,
     "metadata": {},
     "output_type": "execute_result"
    }
   ],
   "source": [
    "model = SVC()\n",
    "model.fit(train, y_train)"
   ]
  },
  {
   "cell_type": "code",
   "execution_count": 57,
   "metadata": {},
   "outputs": [
    {
     "name": "stdout",
     "output_type": "stream",
     "text": [
      "              precision    recall  f1-score   support\n",
      "\n",
      "       agree       0.73      0.17      0.28       127\n",
      "    disagree       0.57      0.11      0.19        36\n",
      "     discuss       0.83      0.59      0.69       358\n",
      "   unrelated       0.86      1.00      0.92      1474\n",
      "\n",
      "    accuracy                           0.85      1995\n",
      "   macro avg       0.75      0.47      0.52      1995\n",
      "weighted avg       0.84      0.85      0.83      1995\n",
      "\n"
     ]
    },
    {
     "data": {
      "image/png": "[encoded data removed]",
      "text/plain": [
       "<Figure size 432x288 with 2 Axes>"
      ]
     },
     "metadata": {},
     "output_type": "display_data"
    },
    {
     "ename": "TypeError",
     "evalue": "unsupported operand type(s) for -: 'str' and 'str'",
     "output_type": "error",
     "traceback": [
      "\u001b[1;31m---------------------------------------------------------------------------\u001b[0m",
      "\u001b[1;31mTypeError\u001b[0m                                 Traceback (most recent call last)",
      "\u001b[1;32m<ipython-input-57-b0a100047973>\u001b[0m in \u001b[0;36m<module>\u001b[1;34m\u001b[0m\n\u001b[0;32m      3\u001b[0m \u001b[0mprint\u001b[0m\u001b[1;33m(\u001b[0m\u001b[0mmetrics\u001b[0m\u001b[1;33m.\u001b[0m\u001b[0mclassification_report\u001b[0m\u001b[1;33m(\u001b[0m\u001b[0my_val\u001b[0m\u001b[1;33m,\u001b[0m \u001b[0my_pred\u001b[0m\u001b[1;33m)\u001b[0m\u001b[1;33m)\u001b[0m\u001b[1;33m\u001b[0m\u001b[1;33m\u001b[0m\u001b[0m\n\u001b[0;32m      4\u001b[0m \u001b[0mplot_confussion_matrix\u001b[0m\u001b[1;33m(\u001b[0m\u001b[0my_val\u001b[0m\u001b[1;33m,\u001b[0m \u001b[0my_pred\u001b[0m\u001b[1;33m)\u001b[0m\u001b[1;33m\u001b[0m\u001b[1;33m\u001b[0m\u001b[0m\n\u001b[1;32m----> 5\u001b[1;33m \u001b[0mplot_roc_curve\u001b[0m\u001b[1;33m(\u001b[0m\u001b[0my_val\u001b[0m\u001b[1;33m,\u001b[0m \u001b[0my_pred\u001b[0m\u001b[1;33m)\u001b[0m\u001b[1;33m\u001b[0m\u001b[1;33m\u001b[0m\u001b[0m\n\u001b[0m",
      "\u001b[1;32m<ipython-input-54-7b9a97040988>\u001b[0m in \u001b[0;36mplot_roc_curve\u001b[1;34m(y_test, y_pred)\u001b[0m\n\u001b[0;32m     18\u001b[0m \u001b[1;32mdef\u001b[0m \u001b[0mplot_roc_curve\u001b[0m\u001b[1;33m(\u001b[0m\u001b[0my_test\u001b[0m\u001b[1;33m,\u001b[0m \u001b[0my_pred\u001b[0m\u001b[1;33m)\u001b[0m\u001b[1;33m:\u001b[0m\u001b[1;33m\u001b[0m\u001b[1;33m\u001b[0m\u001b[0m\n\u001b[0;32m     19\u001b[0m     \u001b[1;34m''' Plot the ROC curve for the target labels and predictions'''\u001b[0m\u001b[1;33m\u001b[0m\u001b[1;33m\u001b[0m\u001b[0m\n\u001b[1;32m---> 20\u001b[1;33m     \u001b[0mfpr\u001b[0m\u001b[1;33m,\u001b[0m \u001b[0mtpr\u001b[0m\u001b[1;33m,\u001b[0m \u001b[0mthresholds\u001b[0m \u001b[1;33m=\u001b[0m \u001b[0mroc_curve\u001b[0m\u001b[1;33m(\u001b[0m\u001b[0my_test\u001b[0m\u001b[1;33m,\u001b[0m \u001b[0my_pred\u001b[0m\u001b[1;33m,\u001b[0m \u001b[0mpos_label\u001b[0m\u001b[1;33m=\u001b[0m\u001b[1;36m1\u001b[0m\u001b[1;33m)\u001b[0m\u001b[1;33m\u001b[0m\u001b[1;33m\u001b[0m\u001b[0m\n\u001b[0m\u001b[0;32m     21\u001b[0m     \u001b[0mroc_auc\u001b[0m\u001b[1;33m=\u001b[0m \u001b[0mauc\u001b[0m\u001b[1;33m(\u001b[0m\u001b[0mfpr\u001b[0m\u001b[1;33m,\u001b[0m\u001b[0mtpr\u001b[0m\u001b[1;33m)\u001b[0m\u001b[1;33m\u001b[0m\u001b[1;33m\u001b[0m\u001b[0m\n\u001b[0;32m     22\u001b[0m     \u001b[0mplt\u001b[0m\u001b[1;33m.\u001b[0m\u001b[0mfigure\u001b[0m\u001b[1;33m(\u001b[0m\u001b[0mfigsize\u001b[0m\u001b[1;33m=\u001b[0m\u001b[1;33m(\u001b[0m\u001b[1;36m12\u001b[0m\u001b[1;33m,\u001b[0m \u001b[1;36m12\u001b[0m\u001b[1;33m)\u001b[0m\u001b[1;33m)\u001b[0m\u001b[1;33m\u001b[0m\u001b[1;33m\u001b[0m\u001b[0m\n",
      "\u001b[1;32mc:\\users\\faizz\\appdata\\local\\programs\\python\\python37\\lib\\site-packages\\sklearn\\metrics\\_ranking.py\u001b[0m in \u001b[0;36mroc_curve\u001b[1;34m(y_true, y_score, pos_label, sample_weight, drop_intermediate)\u001b[0m\n\u001b[0;32m    769\u001b[0m     \"\"\"\n\u001b[0;32m    770\u001b[0m     fps, tps, thresholds = _binary_clf_curve(\n\u001b[1;32m--> 771\u001b[1;33m         y_true, y_score, pos_label=pos_label, sample_weight=sample_weight)\n\u001b[0m\u001b[0;32m    772\u001b[0m \u001b[1;33m\u001b[0m\u001b[0m\n\u001b[0;32m    773\u001b[0m     \u001b[1;31m# Attempt to drop thresholds corresponding to points in between and\u001b[0m\u001b[1;33m\u001b[0m\u001b[1;33m\u001b[0m\u001b[1;33m\u001b[0m\u001b[0m\n",
      "\u001b[1;32mc:\\users\\faizz\\appdata\\local\\programs\\python\\python37\\lib\\site-packages\\sklearn\\metrics\\_ranking.py\u001b[0m in \u001b[0;36m_binary_clf_curve\u001b[1;34m(y_true, y_score, pos_label, sample_weight)\u001b[0m\n\u001b[0;32m    581\u001b[0m     \u001b[1;31m# the indices associated with the distinct values. We also\u001b[0m\u001b[1;33m\u001b[0m\u001b[1;33m\u001b[0m\u001b[1;33m\u001b[0m\u001b[0m\n\u001b[0;32m    582\u001b[0m     \u001b[1;31m# concatenate a value for the end of the curve.\u001b[0m\u001b[1;33m\u001b[0m\u001b[1;33m\u001b[0m\u001b[1;33m\u001b[0m\u001b[0m\n\u001b[1;32m--> 583\u001b[1;33m     \u001b[0mdistinct_value_indices\u001b[0m \u001b[1;33m=\u001b[0m \u001b[0mnp\u001b[0m\u001b[1;33m.\u001b[0m\u001b[0mwhere\u001b[0m\u001b[1;33m(\u001b[0m\u001b[0mnp\u001b[0m\u001b[1;33m.\u001b[0m\u001b[0mdiff\u001b[0m\u001b[1;33m(\u001b[0m\u001b[0my_score\u001b[0m\u001b[1;33m)\u001b[0m\u001b[1;33m)\u001b[0m\u001b[1;33m[\u001b[0m\u001b[1;36m0\u001b[0m\u001b[1;33m]\u001b[0m\u001b[1;33m\u001b[0m\u001b[1;33m\u001b[0m\u001b[0m\n\u001b[0m\u001b[0;32m    584\u001b[0m     \u001b[0mthreshold_idxs\u001b[0m \u001b[1;33m=\u001b[0m \u001b[0mnp\u001b[0m\u001b[1;33m.\u001b[0m\u001b[0mr_\u001b[0m\u001b[1;33m[\u001b[0m\u001b[0mdistinct_value_indices\u001b[0m\u001b[1;33m,\u001b[0m \u001b[0my_true\u001b[0m\u001b[1;33m.\u001b[0m\u001b[0msize\u001b[0m \u001b[1;33m-\u001b[0m \u001b[1;36m1\u001b[0m\u001b[1;33m]\u001b[0m\u001b[1;33m\u001b[0m\u001b[1;33m\u001b[0m\u001b[0m\n\u001b[0;32m    585\u001b[0m \u001b[1;33m\u001b[0m\u001b[0m\n",
      "\u001b[1;32m<__array_function__ internals>\u001b[0m in \u001b[0;36mdiff\u001b[1;34m(*args, **kwargs)\u001b[0m\n",
      "\u001b[1;32mc:\\users\\faizz\\appdata\\local\\programs\\python\\python37\\lib\\site-packages\\numpy\\lib\\function_base.py\u001b[0m in \u001b[0;36mdiff\u001b[1;34m(a, n, axis, prepend, append)\u001b[0m\n\u001b[0;32m   1267\u001b[0m     \u001b[0mop\u001b[0m \u001b[1;33m=\u001b[0m \u001b[0mnot_equal\u001b[0m \u001b[1;32mif\u001b[0m \u001b[0ma\u001b[0m\u001b[1;33m.\u001b[0m\u001b[0mdtype\u001b[0m \u001b[1;33m==\u001b[0m \u001b[0mnp\u001b[0m\u001b[1;33m.\u001b[0m\u001b[0mbool_\u001b[0m \u001b[1;32melse\u001b[0m \u001b[0msubtract\u001b[0m\u001b[1;33m\u001b[0m\u001b[1;33m\u001b[0m\u001b[0m\n\u001b[0;32m   1268\u001b[0m     \u001b[1;32mfor\u001b[0m \u001b[0m_\u001b[0m \u001b[1;32min\u001b[0m \u001b[0mrange\u001b[0m\u001b[1;33m(\u001b[0m\u001b[0mn\u001b[0m\u001b[1;33m)\u001b[0m\u001b[1;33m:\u001b[0m\u001b[1;33m\u001b[0m\u001b[1;33m\u001b[0m\u001b[0m\n\u001b[1;32m-> 1269\u001b[1;33m         \u001b[0ma\u001b[0m \u001b[1;33m=\u001b[0m \u001b[0mop\u001b[0m\u001b[1;33m(\u001b[0m\u001b[0ma\u001b[0m\u001b[1;33m[\u001b[0m\u001b[0mslice1\u001b[0m\u001b[1;33m]\u001b[0m\u001b[1;33m,\u001b[0m \u001b[0ma\u001b[0m\u001b[1;33m[\u001b[0m\u001b[0mslice2\u001b[0m\u001b[1;33m]\u001b[0m\u001b[1;33m)\u001b[0m\u001b[1;33m\u001b[0m\u001b[1;33m\u001b[0m\u001b[0m\n\u001b[0m\u001b[0;32m   1270\u001b[0m \u001b[1;33m\u001b[0m\u001b[0m\n\u001b[0;32m   1271\u001b[0m     \u001b[1;32mreturn\u001b[0m \u001b[0ma\u001b[0m\u001b[1;33m\u001b[0m\u001b[1;33m\u001b[0m\u001b[0m\n",
      "\u001b[1;31mTypeError\u001b[0m: unsupported operand type(s) for -: 'str' and 'str'"
     ]
    }
   ],
   "source": [
    "y_pred = model.predict(val)\n",
    "\n",
    "print(metrics.classification_report(y_val, y_pred))\n",
    "plot_confussion_matrix(y_val, y_pred)\n",
    "plot_roc_curve(y_val, y_pred)"
   ]
  },
  {
   "cell_type": "code",
   "execution_count": null,
   "metadata": {},
   "outputs": [],
   "source": [
    "# training an SVM on TF-IDF features\n",
    "# Define the parameters to tune\n",
    "\"\"\"\n",
    "parameters = { \n",
    "    'C': [0.5, 5],\n",
    "    'gamma': [1, 'auto', 'scale']\n",
    "}\n",
    "# Tune yyperparameters  using Grid Search and a SVM model\n",
    "model = GridSearchCV(SVC(kernel='rbf'), parameters, cv=5, n_jobs=-1).fit(train, y_train)\n",
    "\"\"\""
   ]
  },
  {
   "cell_type": "code",
   "execution_count": null,
   "metadata": {},
   "outputs": [],
   "source": []
  }
 ],
 "metadata": {
  "kernelspec": {
   "display_name": "Python 3",
   "language": "python",
   "name": "python3"
  },
  "language_info": {
   "codemirror_mode": {
    "name": "ipython",
    "version": 3
   },
   "file_extension": ".py",
   "mimetype": "text/x-python",
   "name": "python",
   "nbconvert_exporter": "python",
   "pygments_lexer": "ipython3",
   "version": "3.7.6"
  }
 },
 "nbformat": 4,
 "nbformat_minor": 4
}
