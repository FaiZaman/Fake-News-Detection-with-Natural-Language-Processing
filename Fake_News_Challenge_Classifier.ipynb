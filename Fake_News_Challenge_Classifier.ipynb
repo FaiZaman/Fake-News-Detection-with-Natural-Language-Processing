{
 "cells": [
  {
   "cell_type": "markdown",
   "metadata": {},
   "source": [
    "# Natural Language Processing for the Fake News Challenge"
   ]
  },
  {
   "cell_type": "markdown",
   "metadata": {},
   "source": [
    "## Main Imports"
   ]
  },
  {
   "cell_type": "code",
   "execution_count": 1,
   "metadata": {},
   "outputs": [],
   "source": [
    "import pandas as pd\n",
    "import numpy as np\n",
    "import seaborn as sn\n",
    "import matplotlib.pyplot as plt\n",
    "\n",
    "from sklearn.base import TransformerMixin\n",
    "from sklearn.model_selection import train_test_split\n",
    "from sklearn.naive_bayes import MultinomialNB\n",
    "from sklearn.pipeline import FeatureUnion, make_pipeline, make_union\n",
    "from sklearn.feature_extraction.text import TfidfVectorizer, CountVectorizer\n",
    "\n",
    "from sklearn import metrics\n",
    "from sklearn.metrics import confusion_matrix, accuracy_score, roc_auc_score, roc_curve, auc, f1_score\n",
    "\n",
    "from sklearn.svm import SVC\n",
    "from sklearn.model_selection import GridSearchCV"
   ]
  },
  {
   "cell_type": "markdown",
   "metadata": {},
   "source": [
    "## Set up the data for preprocessing\n",
    "### Load and sample the data"
   ]
  },
  {
   "cell_type": "code",
   "execution_count": 2,
   "metadata": {},
   "outputs": [],
   "source": [
    "data_folder_name = 'data'\n",
    "train_body_filename = 'train_bodies.csv'\n",
    "train_stance_filename = 'train_stances.csv'\n",
    "\n",
    "train_body_path = data_folder_name +'/'+ train_body_filename \n",
    "train_stance_path = data_folder_name + '/' + train_stance_filename\n",
    "\n",
    "body_data = pd.read_csv(train_body_path)\n",
    "stance_data = pd.read_csv(train_stance_path)"
   ]
  },
  {
   "cell_type": "code",
   "execution_count": 3,
   "metadata": {},
   "outputs": [
    {
     "data": {
      "text/html": [
       "<div>\n",
       "<style scoped>\n",
       "    .dataframe tbody tr th:only-of-type {\n",
       "        vertical-align: middle;\n",
       "    }\n",
       "\n",
       "    .dataframe tbody tr th {\n",
       "        vertical-align: top;\n",
       "    }\n",
       "\n",
       "    .dataframe thead th {\n",
       "        text-align: right;\n",
       "    }\n",
       "</style>\n",
       "<table border=\"1\" class=\"dataframe\">\n",
       "  <thead>\n",
       "    <tr style=\"text-align: right;\">\n",
       "      <th></th>\n",
       "      <th>Body ID</th>\n",
       "      <th>articleBody</th>\n",
       "    </tr>\n",
       "  </thead>\n",
       "  <tbody>\n",
       "    <tr>\n",
       "      <th>630</th>\n",
       "      <td>956</td>\n",
       "      <td>BAGHDAD — The Islamic State (IS) has been accu...</td>\n",
       "    </tr>\n",
       "    <tr>\n",
       "      <th>1462</th>\n",
       "      <td>2202</td>\n",
       "      <td>The \"Jihadi John\" killer who has featured in s...</td>\n",
       "    </tr>\n",
       "    <tr>\n",
       "      <th>510</th>\n",
       "      <td>761</td>\n",
       "      <td>SYDNEY - An Australian man had a spider remove...</td>\n",
       "    </tr>\n",
       "    <tr>\n",
       "      <th>496</th>\n",
       "      <td>738</td>\n",
       "      <td>Josh Paler Lin, a YouTube star whose channel h...</td>\n",
       "    </tr>\n",
       "    <tr>\n",
       "      <th>58</th>\n",
       "      <td>86</td>\n",
       "      <td>After brutally beating up African youth at a m...</td>\n",
       "    </tr>\n",
       "    <tr>\n",
       "      <th>1323</th>\n",
       "      <td>1987</td>\n",
       "      <td>CRAIG WARGA/NY DAILY NEWS/GETTY IMAGES\\n\\nSo m...</td>\n",
       "    </tr>\n",
       "    <tr>\n",
       "      <th>548</th>\n",
       "      <td>825</td>\n",
       "      <td>Defense Secretary Chuck Hagel said on Saturday...</td>\n",
       "    </tr>\n",
       "    <tr>\n",
       "      <th>1430</th>\n",
       "      <td>2155</td>\n",
       "      <td>Lebanese authorities are holding a daughter an...</td>\n",
       "    </tr>\n",
       "    <tr>\n",
       "      <th>74</th>\n",
       "      <td>115</td>\n",
       "      <td>Afghanistan veteran Sam Arnold uploaded this s...</td>\n",
       "    </tr>\n",
       "    <tr>\n",
       "      <th>740</th>\n",
       "      <td>1115</td>\n",
       "      <td>Militants reportedly have three captured jets ...</td>\n",
       "    </tr>\n",
       "  </tbody>\n",
       "</table>\n",
       "</div>"
      ],
      "text/plain": [
       "      Body ID                                        articleBody\n",
       "630       956  BAGHDAD — The Islamic State (IS) has been accu...\n",
       "1462     2202  The \"Jihadi John\" killer who has featured in s...\n",
       "510       761  SYDNEY - An Australian man had a spider remove...\n",
       "496       738  Josh Paler Lin, a YouTube star whose channel h...\n",
       "58         86  After brutally beating up African youth at a m...\n",
       "1323     1987  CRAIG WARGA/NY DAILY NEWS/GETTY IMAGES\\n\\nSo m...\n",
       "548       825  Defense Secretary Chuck Hagel said on Saturday...\n",
       "1430     2155  Lebanese authorities are holding a daughter an...\n",
       "74        115  Afghanistan veteran Sam Arnold uploaded this s...\n",
       "740      1115  Militants reportedly have three captured jets ..."
      ]
     },
     "execution_count": 3,
     "metadata": {},
     "output_type": "execute_result"
    }
   ],
   "source": [
    "body_data.sample(10)"
   ]
  },
  {
   "cell_type": "markdown",
   "metadata": {},
   "source": [
    "### Merge the data based on the Body ID to get one dataframe containing the corresponding Headlines and Article Bodies"
   ]
  },
  {
   "cell_type": "code",
   "execution_count": 4,
   "metadata": {},
   "outputs": [
    {
     "data": {
      "text/html": [
       "<div>\n",
       "<style scoped>\n",
       "    .dataframe tbody tr th:only-of-type {\n",
       "        vertical-align: middle;\n",
       "    }\n",
       "\n",
       "    .dataframe tbody tr th {\n",
       "        vertical-align: top;\n",
       "    }\n",
       "\n",
       "    .dataframe thead th {\n",
       "        text-align: right;\n",
       "    }\n",
       "</style>\n",
       "<table border=\"1\" class=\"dataframe\">\n",
       "  <thead>\n",
       "    <tr style=\"text-align: right;\">\n",
       "      <th></th>\n",
       "      <th>Body ID</th>\n",
       "      <th>articleBody</th>\n",
       "      <th>Headline</th>\n",
       "      <th>Stance</th>\n",
       "      <th>Relevance</th>\n",
       "    </tr>\n",
       "  </thead>\n",
       "  <tbody>\n",
       "    <tr>\n",
       "      <th>48845</th>\n",
       "      <td>2483</td>\n",
       "      <td>Offers have been pouring in to re-home a dog f...</td>\n",
       "      <td>It’s About To Get Harder To Be Arrested For Po...</td>\n",
       "      <td>unrelated</td>\n",
       "      <td>unrelated</td>\n",
       "    </tr>\n",
       "    <tr>\n",
       "      <th>15926</th>\n",
       "      <td>958</td>\n",
       "      <td>An animal lover from Norfolk splashed hundreds...</td>\n",
       "      <td>Airport worker strips naked at security scanne...</td>\n",
       "      <td>unrelated</td>\n",
       "      <td>unrelated</td>\n",
       "    </tr>\n",
       "    <tr>\n",
       "      <th>3110</th>\n",
       "      <td>186</td>\n",
       "      <td>The sound of 10 or 11 shots from the gun of Fe...</td>\n",
       "      <td>Kim Jong-un relying on ‘cobra wine’ after prob...</td>\n",
       "      <td>unrelated</td>\n",
       "      <td>unrelated</td>\n",
       "    </tr>\n",
       "    <tr>\n",
       "      <th>47813</th>\n",
       "      <td>2443</td>\n",
       "      <td>There have been reports of predator drones bei...</td>\n",
       "      <td>Research Medical Center denies reports that a ...</td>\n",
       "      <td>unrelated</td>\n",
       "      <td>unrelated</td>\n",
       "    </tr>\n",
       "    <tr>\n",
       "      <th>31376</th>\n",
       "      <td>1745</td>\n",
       "      <td>Digital retail company Amazon announced Thursd...</td>\n",
       "      <td>Amazon's first brick-and-mortar store said to ...</td>\n",
       "      <td>discuss</td>\n",
       "      <td>related</td>\n",
       "    </tr>\n",
       "    <tr>\n",
       "      <th>42402</th>\n",
       "      <td>2206</td>\n",
       "      <td>A \"propaganda video\" released by ISIS has set ...</td>\n",
       "      <td>ISIS Video Shows Execution of David Cawthorne ...</td>\n",
       "      <td>agree</td>\n",
       "      <td>related</td>\n",
       "    </tr>\n",
       "    <tr>\n",
       "      <th>6603</th>\n",
       "      <td>388</td>\n",
       "      <td>Nikolai Kryaglyachenko, 12, now attracts coins...</td>\n",
       "      <td>Apple may launch 12-inch MacBook Air with Reti...</td>\n",
       "      <td>unrelated</td>\n",
       "      <td>unrelated</td>\n",
       "    </tr>\n",
       "    <tr>\n",
       "      <th>7743</th>\n",
       "      <td>490</td>\n",
       "      <td>One passenger at Dulles International Airport ...</td>\n",
       "      <td>CNN Plays Alleged Audiotape of Michael Brown S...</td>\n",
       "      <td>unrelated</td>\n",
       "      <td>unrelated</td>\n",
       "    </tr>\n",
       "    <tr>\n",
       "      <th>9988</th>\n",
       "      <td>615</td>\n",
       "      <td>\"Eh-oh!\" A 19-year-old student is claiming tha...</td>\n",
       "      <td>Etats-Unis: Mort pendant 48 minutes, un prêtre...</td>\n",
       "      <td>unrelated</td>\n",
       "      <td>unrelated</td>\n",
       "    </tr>\n",
       "    <tr>\n",
       "      <th>28271</th>\n",
       "      <td>1580</td>\n",
       "      <td>In a video posted online Tuesday, ISIS beheads...</td>\n",
       "      <td>James Wright Foley, Kidnapped Journalist, Appa...</td>\n",
       "      <td>discuss</td>\n",
       "      <td>related</td>\n",
       "    </tr>\n",
       "  </tbody>\n",
       "</table>\n",
       "</div>"
      ],
      "text/plain": [
       "       Body ID                                        articleBody  \\\n",
       "48845     2483  Offers have been pouring in to re-home a dog f...   \n",
       "15926      958  An animal lover from Norfolk splashed hundreds...   \n",
       "3110       186  The sound of 10 or 11 shots from the gun of Fe...   \n",
       "47813     2443  There have been reports of predator drones bei...   \n",
       "31376     1745  Digital retail company Amazon announced Thursd...   \n",
       "42402     2206  A \"propaganda video\" released by ISIS has set ...   \n",
       "6603       388  Nikolai Kryaglyachenko, 12, now attracts coins...   \n",
       "7743       490  One passenger at Dulles International Airport ...   \n",
       "9988       615  \"Eh-oh!\" A 19-year-old student is claiming tha...   \n",
       "28271     1580  In a video posted online Tuesday, ISIS beheads...   \n",
       "\n",
       "                                                Headline     Stance  Relevance  \n",
       "48845  It’s About To Get Harder To Be Arrested For Po...  unrelated  unrelated  \n",
       "15926  Airport worker strips naked at security scanne...  unrelated  unrelated  \n",
       "3110   Kim Jong-un relying on ‘cobra wine’ after prob...  unrelated  unrelated  \n",
       "47813  Research Medical Center denies reports that a ...  unrelated  unrelated  \n",
       "31376  Amazon's first brick-and-mortar store said to ...    discuss    related  \n",
       "42402  ISIS Video Shows Execution of David Cawthorne ...      agree    related  \n",
       "6603   Apple may launch 12-inch MacBook Air with Reti...  unrelated  unrelated  \n",
       "7743   CNN Plays Alleged Audiotape of Michael Brown S...  unrelated  unrelated  \n",
       "9988   Etats-Unis: Mort pendant 48 minutes, un prêtre...  unrelated  unrelated  \n",
       "28271  James Wright Foley, Kidnapped Journalist, Appa...    discuss    related  "
      ]
     },
     "execution_count": 4,
     "metadata": {},
     "output_type": "execute_result"
    }
   ],
   "source": [
    "total_data = pd.merge(body_data, stance_data, on='Body ID')\n",
    "\n",
    "# randomly drop rows to improve performance on SVM\n",
    "remove_n = 0\n",
    "drop_indices = np.random.choice(total_data.index, remove_n, replace=False)\n",
    "total_data = total_data.drop(drop_indices)\n",
    "\n",
    "# add relevance column\n",
    "total_data['Relevance'] = np.where(total_data['Stance'] == 'unrelated', 'unrelated', 'related')\n",
    "total_data.sample(10)"
   ]
  },
  {
   "cell_type": "markdown",
   "metadata": {},
   "source": [
    "### Splitting the dataset into train and validation sets"
   ]
  },
  {
   "cell_type": "code",
   "execution_count": 5,
   "metadata": {},
   "outputs": [
    {
     "name": "stdout",
     "output_type": "stream",
     "text": [
      "Size of training set: (39977, 2)\n",
      "Size of validation set: (9995, 2)\n"
     ]
    },
    {
     "data": {
      "text/html": [
       "<div>\n",
       "<style scoped>\n",
       "    .dataframe tbody tr th:only-of-type {\n",
       "        vertical-align: middle;\n",
       "    }\n",
       "\n",
       "    .dataframe tbody tr th {\n",
       "        vertical-align: top;\n",
       "    }\n",
       "\n",
       "    .dataframe thead th {\n",
       "        text-align: right;\n",
       "    }\n",
       "</style>\n",
       "<table border=\"1\" class=\"dataframe\">\n",
       "  <thead>\n",
       "    <tr style=\"text-align: right;\">\n",
       "      <th></th>\n",
       "      <th>Headline</th>\n",
       "      <th>articleBody</th>\n",
       "    </tr>\n",
       "  </thead>\n",
       "  <tbody>\n",
       "    <tr>\n",
       "      <th>37579</th>\n",
       "      <td>Spider burrowed into appendix scar, crawled th...</td>\n",
       "      <td>Twitter is abuzz with rumours that Cuba's form...</td>\n",
       "    </tr>\n",
       "    <tr>\n",
       "      <th>48945</th>\n",
       "      <td>Pope Francis did not tell boy heaven has room ...</td>\n",
       "      <td>SAN SEVERINO - Go to the hospital accusing a t...</td>\n",
       "    </tr>\n",
       "    <tr>\n",
       "      <th>41728</th>\n",
       "      <td>REVEALED: Woman Behind $5 Million Per Year You...</td>\n",
       "      <td>Longtime \"NBC Nightly News\" anchor Tom Brokaw ...</td>\n",
       "    </tr>\n",
       "    <tr>\n",
       "      <th>38287</th>\n",
       "      <td>Kim Jong-un: obese leader 'fractured both ankles'</td>\n",
       "      <td>There's a story currently making the rounds ab...</td>\n",
       "    </tr>\n",
       "    <tr>\n",
       "      <th>31605</th>\n",
       "      <td>Nun gives birth to surprise baby after complai...</td>\n",
       "      <td>Money makes the world go round, right?\\n\\nLunc...</td>\n",
       "    </tr>\n",
       "    <tr>\n",
       "      <th>49226</th>\n",
       "      <td>BiH: Seven Primary School Students Pregnant Af...</td>\n",
       "      <td>28 girls, aged 13 and 14, from a small town we...</td>\n",
       "    </tr>\n",
       "    <tr>\n",
       "      <th>16391</th>\n",
       "      <td>Thanks Uncle Sam, we have your weapons airdrop...</td>\n",
       "      <td>Brian Williams took a moment on Monday’s “NBC ...</td>\n",
       "    </tr>\n",
       "    <tr>\n",
       "      <th>9238</th>\n",
       "      <td>Texas Truck Winds Up in Syria With Islamic Mil...</td>\n",
       "      <td>Ever since his wife Ruby's death in 2003, wido...</td>\n",
       "    </tr>\n",
       "    <tr>\n",
       "      <th>47534</th>\n",
       "      <td>Apple Watch launch expected in late March</td>\n",
       "      <td>Apple has been evaluating platinum for future ...</td>\n",
       "    </tr>\n",
       "    <tr>\n",
       "      <th>3610</th>\n",
       "      <td>Report of Kim Jong-un’s ankle injury add fuel ...</td>\n",
       "      <td>We took a look at the photo said to show the b...</td>\n",
       "    </tr>\n",
       "  </tbody>\n",
       "</table>\n",
       "</div>"
      ],
      "text/plain": [
       "                                                Headline  \\\n",
       "37579  Spider burrowed into appendix scar, crawled th...   \n",
       "48945  Pope Francis did not tell boy heaven has room ...   \n",
       "41728  REVEALED: Woman Behind $5 Million Per Year You...   \n",
       "38287  Kim Jong-un: obese leader 'fractured both ankles'   \n",
       "31605  Nun gives birth to surprise baby after complai...   \n",
       "49226  BiH: Seven Primary School Students Pregnant Af...   \n",
       "16391  Thanks Uncle Sam, we have your weapons airdrop...   \n",
       "9238   Texas Truck Winds Up in Syria With Islamic Mil...   \n",
       "47534          Apple Watch launch expected in late March   \n",
       "3610   Report of Kim Jong-un’s ankle injury add fuel ...   \n",
       "\n",
       "                                             articleBody  \n",
       "37579  Twitter is abuzz with rumours that Cuba's form...  \n",
       "48945  SAN SEVERINO - Go to the hospital accusing a t...  \n",
       "41728  Longtime \"NBC Nightly News\" anchor Tom Brokaw ...  \n",
       "38287  There's a story currently making the rounds ab...  \n",
       "31605  Money makes the world go round, right?\\n\\nLunc...  \n",
       "49226  28 girls, aged 13 and 14, from a small town we...  \n",
       "16391  Brian Williams took a moment on Monday’s “NBC ...  \n",
       "9238   Ever since his wife Ruby's death in 2003, wido...  \n",
       "47534  Apple has been evaluating platinum for future ...  \n",
       "3610   We took a look at the photo said to show the b...  "
      ]
     },
     "execution_count": 5,
     "metadata": {},
     "output_type": "execute_result"
    }
   ],
   "source": [
    "input_columns = total_data[['Headline', 'articleBody']]\n",
    "target = 'Relevance'\n",
    "X_train, X_val, y_train, y_val = train_test_split(input_columns, total_data[target].values , test_size=0.20, random_state=0)\n",
    "\n",
    "# check the size of our datasets\n",
    "print('Size of training set:', X_train.shape)\n",
    "print('Size of validation set:', X_val.shape)\n",
    "\n",
    "X_train.sample(10)"
   ]
  },
  {
   "cell_type": "markdown",
   "metadata": {},
   "source": [
    "## TF-IDF Feature Extraction\n",
    "### Custom Transformer for Pipeline"
   ]
  },
  {
   "cell_type": "code",
   "execution_count": 6,
   "metadata": {},
   "outputs": [],
   "source": [
    "# custom transformer for column extraction\n",
    "class ColumnExtractor(TransformerMixin):\n",
    "\n",
    "    def __init__(self, column):\n",
    "        self.column = column\n",
    "\n",
    "    def fit(self, X, y=None):\n",
    "        return self\n",
    "\n",
    "    def transform(self, X, y=None):\n",
    "        return X[self.column]"
   ]
  },
  {
   "cell_type": "markdown",
   "metadata": {},
   "source": [
    "### Pipelines and Feature Union of Headline and Article Body\n",
    "- Apply fit transform"
   ]
  },
  {
   "cell_type": "code",
   "execution_count": 7,
   "metadata": {},
   "outputs": [
    {
     "name": "stdout",
     "output_type": "stream",
     "text": [
      "Train size:  (39977, 20)\n",
      "Val size:  (9995, 20)\n"
     ]
    }
   ],
   "source": [
    "# feature extraction with TF-IDF\n",
    "\n",
    "# create pipes and perform TF-IDF on Headline and Body columns\n",
    "headline_pipe = make_pipeline(\n",
    "    ColumnExtractor('Headline'),\n",
    "    TfidfVectorizer(decode_error='ignore', min_df=4, max_df=0.5, max_features=10, lowercase=True)\n",
    ")\n",
    "\n",
    "body_pipe = make_pipeline(\n",
    "    ColumnExtractor('articleBody'),\n",
    "    TfidfVectorizer(decode_error='ignore', min_df=4, max_df=0.5, max_features=10, lowercase=True)\n",
    ")\n",
    "\n",
    "# combine headline and body transformers with a feature union and weight equally\n",
    "preprocessor = FeatureUnion(transformer_list=[('headline', headline_pipe),\n",
    "                                              ('body', body_pipe)],\n",
    "                            transformer_weights= {\n",
    "                                    'headline': 0.5,\n",
    "                                    'body': 0.5\n",
    "                               }\n",
    "                           )\n",
    "\n",
    "# fit transform and print data\n",
    "train = preprocessor.fit_transform(X_train)\n",
    "val = preprocessor.transform(X_val)\n",
    "print('Train size: ', train.shape)\n",
    "print('Val size: ', val.shape)"
   ]
  },
  {
   "cell_type": "markdown",
   "metadata": {},
   "source": [
    "## Evaluation Metrics"
   ]
  },
  {
   "cell_type": "markdown",
   "metadata": {},
   "source": [
    "### Confusion Matrix"
   ]
  },
  {
   "cell_type": "code",
   "execution_count": 8,
   "metadata": {},
   "outputs": [],
   "source": [
    "# Create the confussion matrix\n",
    "def plot_confussion_matrix(y_test, y_pred):\n",
    "    ''' Plot the confussion matrix for the target labels and predictions '''\n",
    "    cm = confusion_matrix(y_test, y_pred)\n",
    "\n",
    "    # Create a dataframe with the confussion matrix values\n",
    "    df_cm = pd.DataFrame(cm, range(cm.shape[0]),\n",
    "                  range(cm.shape[1]))\n",
    "\n",
    "    # Plot the confussion matrix\n",
    "    sn.set(font_scale=1.4) #for label size\n",
    "    sn.heatmap(df_cm, annot=True,fmt='.0f',cmap=\"YlGnBu\",annot_kws={\"size\": 10})# font size\n",
    "    plt.show()"
   ]
  },
  {
   "cell_type": "markdown",
   "metadata": {},
   "source": [
    "### ROC Curve"
   ]
  },
  {
   "cell_type": "code",
   "execution_count": 9,
   "metadata": {},
   "outputs": [],
   "source": [
    "# ROC Curve\n",
    "# plot no skill\n",
    "# Calculate the points in the ROC curve\n",
    "def plot_roc_curve(y_test, y_pred):\n",
    "    ''' Plot the ROC curve for the target labels and predictions'''\n",
    "    fpr, tpr, thresholds = roc_curve(y_test, y_pred, pos_label=1)\n",
    "    roc_auc= auc(fpr,tpr)\n",
    "    plt.figure(figsize=(12, 12))\n",
    "    ax = plt.subplot(121)\n",
    "    ax.set_aspect(1)\n",
    "    \n",
    "    plt.title('Receiver Operating Characteristic')\n",
    "    plt.plot(fpr, tpr, 'b', label = 'AUC = %0.2f' % roc_auc)\n",
    "    plt.legend(loc = 'lower right')\n",
    "    plt.plot([0, 1], [0, 1],'r--')\n",
    "    plt.xlim([0, 1])\n",
    "    plt.ylim([0, 1])\n",
    "    plt.ylabel('True Positive Rate')\n",
    "    plt.xlabel('False Positive Rate')\n",
    "    plt.show()"
   ]
  },
  {
   "cell_type": "markdown",
   "metadata": {},
   "source": [
    "## Training Models"
   ]
  },
  {
   "cell_type": "markdown",
   "metadata": {},
   "source": [
    "### Naive Bayes"
   ]
  },
  {
   "cell_type": "code",
   "execution_count": 10,
   "metadata": {},
   "outputs": [
    {
     "name": "stdout",
     "output_type": "stream",
     "text": [
      "train score: 0.7333466743377443\n",
      "validation score: 0.7231615807903952\n"
     ]
    }
   ],
   "source": [
    "# create the model, train it on the train dataset and print the scores\n",
    "model = MultinomialNB() # as implemented in sklearn\n",
    "model.fit(train, y_train)\n",
    "print(\"train score:\", model.score(train, y_train))\n",
    "print(\"validation score:\", model.score(val, y_val))"
   ]
  },
  {
   "cell_type": "markdown",
   "metadata": {},
   "source": [
    "### Support Vector Machine Classifier"
   ]
  },
  {
   "cell_type": "code",
   "execution_count": 11,
   "metadata": {},
   "outputs": [
    {
     "data": {
      "text/plain": [
       "SVC(C=1.0, break_ties=False, cache_size=200, class_weight=None, coef0=0.0,\n",
       "    decision_function_shape='ovr', degree=3, gamma='scale', kernel='rbf',\n",
       "    max_iter=-1, probability=False, random_state=None, shrinking=True,\n",
       "    tol=0.001, verbose=False)"
      ]
     },
     "execution_count": 11,
     "metadata": {},
     "output_type": "execute_result"
    }
   ],
   "source": [
    "model = SVC()\n",
    "model.fit(train, y_train)"
   ]
  },
  {
   "cell_type": "code",
   "execution_count": 12,
   "metadata": {},
   "outputs": [
    {
     "name": "stdout",
     "output_type": "stream",
     "text": [
      "              precision    recall  f1-score   support\n",
      "\n",
      "     related       0.77      0.10      0.18      2767\n",
      "   unrelated       0.74      0.99      0.85      7228\n",
      "\n",
      "    accuracy                           0.74      9995\n",
      "   macro avg       0.76      0.55      0.52      9995\n",
      "weighted avg       0.75      0.74      0.66      9995\n",
      "\n"
     ]
    },
    {
     "data": {
      "image/png": "[encoded data removed]",
      "text/plain": [
       "<Figure size 432x288 with 2 Axes>"
      ]
     },
     "metadata": {},
     "output_type": "display_data"
    },
    {
     "data": {
      "image/png": "[encoded data removed]",
      "text/plain": [
       "<Figure size 864x864 with 1 Axes>"
      ]
     },
     "metadata": {},
     "output_type": "display_data"
    }
   ],
   "source": [
    "y_pred = model.predict(val)\n",
    "\n",
    "print(metrics.classification_report(y_val, y_pred))\n",
    "plot_confussion_matrix(y_val, y_pred)\n",
    "\n",
    "# convert to 0s and 1s for plotting ROC curve\n",
    "roc_y_val = [np.int64(1) if i == 'related' else np.int64(0) for i in y_val]\n",
    "roc_y_pred = [np.int64(1) if i == 'related' else np.int64(0) for i in y_pred]\n",
    "\n",
    "plot_roc_curve(roc_y_val, roc_y_pred)"
   ]
  },
  {
   "cell_type": "code",
   "execution_count": 13,
   "metadata": {},
   "outputs": [],
   "source": [
    "# training an SVM on TF-IDF features\n",
    "# Define the parameters to tune\n",
    "\n",
    "parameters = {\n",
    "    'C': [1, 10],\n",
    "    'gamma': [1, 'auto', 'scale']\n",
    "}\n",
    "# Tune yyperparameters  using Grid Search and a SVM model\n",
    "model = GridSearchCV(SVC(kernel='rbf'), parameters, cv=5, n_jobs=-1).fit(train, y_train)\n"
   ]
  },
  {
   "cell_type": "code",
   "execution_count": 14,
   "metadata": {},
   "outputs": [
    {
     "name": "stdout",
     "output_type": "stream",
     "text": [
      "              precision    recall  f1-score   support\n",
      "\n",
      "     related       0.71      0.31      0.43      2767\n",
      "   unrelated       0.78      0.95      0.86      7228\n",
      "\n",
      "    accuracy                           0.77      9995\n",
      "   macro avg       0.74      0.63      0.65      9995\n",
      "weighted avg       0.76      0.77      0.74      9995\n",
      "\n"
     ]
    },
    {
     "data": {
      "image/png": "[encoded data removed]",
      "text/plain": [
       "<Figure size 432x288 with 2 Axes>"
      ]
     },
     "metadata": {},
     "output_type": "display_data"
    },
    {
     "data": {
      "image/png": "[encoded data removed]",
      "text/plain": [
       "<Figure size 864x864 with 1 Axes>"
      ]
     },
     "metadata": {},
     "output_type": "display_data"
    }
   ],
   "source": [
    "y_pred = model.predict(val)\n",
    "\n",
    "print(metrics.classification_report(y_val, y_pred))\n",
    "plot_confussion_matrix(y_val, y_pred)\n",
    "\n",
    "# convert to 0s and 1s for plotting ROC curve\n",
    "roc_y_val = [np.int64(1) if i == 'related' else np.int64(0) for i in y_val]\n",
    "roc_y_pred = [np.int64(1) if i == 'related' else np.int64(0) for i in y_pred]\n",
    "\n",
    "plot_roc_curve(roc_y_val, roc_y_pred)"
   ]
  },
  {
   "cell_type": "code",
   "execution_count": null,
   "metadata": {},
   "outputs": [],
   "source": []
  }
 ],
 "metadata": {
  "kernelspec": {
   "display_name": "Python 3",
   "language": "python",
   "name": "python3"
  },
  "language_info": {
   "codemirror_mode": {
    "name": "ipython",
    "version": 3
   },
   "file_extension": ".py",
   "mimetype": "text/x-python",
   "name": "python",
   "nbconvert_exporter": "python",
   "pygments_lexer": "ipython3",
   "version": "3.7.6"
  }
 },
 "nbformat": 4,
 "nbformat_minor": 4
}
