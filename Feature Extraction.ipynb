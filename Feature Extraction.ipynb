{
 "cells": [
  {
   "cell_type": "code",
   "execution_count": 16,
   "metadata": {},
   "outputs": [],
   "source": [
    "import pandas as pd\n",
    "import numpy as np\n",
    "from sklearn.feature_extraction.text import TfidfVectorizer"
   ]
  },
  {
   "cell_type": "code",
   "execution_count": 12,
   "metadata": {},
   "outputs": [],
   "source": [
    "# load the data\n",
    "\n",
    "data_folder_name = 'data'\n",
    "train_body_filename = 'train_bodies.csv'\n",
    "train_stance_filename = 'train_stances.csv'\n",
    "\n",
    "train_body_path = data_folder_name +'/'+ train_body_filename \n",
    "train_stance_path = data_folder_name + '/' + train_stance_filename\n",
    "\n",
    "body_data = pd.read_csv(train_body_path)\n",
    "stance_data = pd.read_csv(train_stance_path)"
   ]
  },
  {
   "cell_type": "code",
   "execution_count": 18,
   "metadata": {},
   "outputs": [
    {
     "data": {
      "text/html": [
       "<div>\n",
       "<style scoped>\n",
       "    .dataframe tbody tr th:only-of-type {\n",
       "        vertical-align: middle;\n",
       "    }\n",
       "\n",
       "    .dataframe tbody tr th {\n",
       "        vertical-align: top;\n",
       "    }\n",
       "\n",
       "    .dataframe thead th {\n",
       "        text-align: right;\n",
       "    }\n",
       "</style>\n",
       "<table border=\"1\" class=\"dataframe\">\n",
       "  <thead>\n",
       "    <tr style=\"text-align: right;\">\n",
       "      <th></th>\n",
       "      <th>Body ID</th>\n",
       "      <th>articleBody</th>\n",
       "    </tr>\n",
       "  </thead>\n",
       "  <tbody>\n",
       "    <tr>\n",
       "      <th>303</th>\n",
       "      <td>476</td>\n",
       "      <td>NOTHING tops off a holiday in Bali like discov...</td>\n",
       "    </tr>\n",
       "    <tr>\n",
       "      <th>1005</th>\n",
       "      <td>1508</td>\n",
       "      <td>Elon University has not banned the use of the ...</td>\n",
       "    </tr>\n",
       "    <tr>\n",
       "      <th>1473</th>\n",
       "      <td>2217</td>\n",
       "      <td>In an aptly described “joint policy initiative...</td>\n",
       "    </tr>\n",
       "    <tr>\n",
       "      <th>1454</th>\n",
       "      <td>2187</td>\n",
       "      <td>The most expensive Apple Watch set to go on sa...</td>\n",
       "    </tr>\n",
       "    <tr>\n",
       "      <th>1651</th>\n",
       "      <td>2480</td>\n",
       "      <td>A tour of the royal grounds at Buckingham Pala...</td>\n",
       "    </tr>\n",
       "    <tr>\n",
       "      <th>151</th>\n",
       "      <td>232</td>\n",
       "      <td>Apple will offer a low power mode on Apple Wat...</td>\n",
       "    </tr>\n",
       "    <tr>\n",
       "      <th>405</th>\n",
       "      <td>614</td>\n",
       "      <td>Batman as Steve Jobs? Sure. How about that guy...</td>\n",
       "    </tr>\n",
       "    <tr>\n",
       "      <th>1053</th>\n",
       "      <td>1579</td>\n",
       "      <td>BUNBURY, Australia, Oct. 16 (UPI) -- A West Au...</td>\n",
       "    </tr>\n",
       "    <tr>\n",
       "      <th>989</th>\n",
       "      <td>1483</td>\n",
       "      <td>Last night, Twitter went into after an obvious...</td>\n",
       "    </tr>\n",
       "    <tr>\n",
       "      <th>1594</th>\n",
       "      <td>2401</td>\n",
       "      <td>After multiple delays, the launch of the Apple...</td>\n",
       "    </tr>\n",
       "  </tbody>\n",
       "</table>\n",
       "</div>"
      ],
      "text/plain": [
       "      Body ID                                        articleBody\n",
       "303       476  NOTHING tops off a holiday in Bali like discov...\n",
       "1005     1508  Elon University has not banned the use of the ...\n",
       "1473     2217  In an aptly described “joint policy initiative...\n",
       "1454     2187  The most expensive Apple Watch set to go on sa...\n",
       "1651     2480  A tour of the royal grounds at Buckingham Pala...\n",
       "151       232  Apple will offer a low power mode on Apple Wat...\n",
       "405       614  Batman as Steve Jobs? Sure. How about that guy...\n",
       "1053     1579  BUNBURY, Australia, Oct. 16 (UPI) -- A West Au...\n",
       "989      1483  Last night, Twitter went into after an obvious...\n",
       "1594     2401  After multiple delays, the launch of the Apple..."
      ]
     },
     "execution_count": 18,
     "metadata": {},
     "output_type": "execute_result"
    }
   ],
   "source": [
    "body_data.sample(10)"
   ]
  },
  {
   "cell_type": "code",
   "execution_count": 20,
   "metadata": {},
   "outputs": [],
   "source": [
    "# feature extraction with TF-IDF\n",
    "\n",
    "X_train = body_data['articleBody']\n",
    "tfidf = TfidfVectorizer(decode_error='ignore', lowercase = True)\n",
    "train = tfidf.fit_transform(X_train.values.astype('U'))\n",
    "val = tfidf.transform(X_val.values.astype('U'))"
   ]
  },
  {
   "cell_type": "code",
   "execution_count": 22,
   "metadata": {},
   "outputs": [
    {
     "name": "stdout",
     "output_type": "stream",
     "text": [
      "['luther' 'lyrical' 'dance' 'making' 'exotic' 'barbarous' 'manages'\n",
      " 'discovers' 'victimizes' 'concept' 'metre' 'indefinitely' 'chefs'\n",
      " 'rebuffs' 'mane' 'poster' 'concede' 'ccoszbruno' 'monarchy' 'bursts']\n"
     ]
    }
   ],
   "source": [
    "dictionary = np.asarray(tfidf.get_feature_names())\n",
    "print(dictionary[np.random.randint(0,len(dictionary),size=20)])"
   ]
  },
  {
   "cell_type": "code",
   "execution_count": null,
   "metadata": {},
   "outputs": [],
   "source": []
  }
 ],
 "metadata": {
  "kernelspec": {
   "display_name": "Python 3",
   "language": "python",
   "name": "python3"
  },
  "language_info": {
   "codemirror_mode": {
    "name": "ipython",
    "version": 3
   },
   "file_extension": ".py",
   "mimetype": "text/x-python",
   "name": "python",
   "nbconvert_exporter": "python",
   "pygments_lexer": "ipython3",
   "version": "3.7.6"
  }
 },
 "nbformat": 4,
 "nbformat_minor": 4
}
